{
  "nbformat": 4,
  "nbformat_minor": 0,
  "metadata": {
    "colab": {
      "name": "Desafio.ipynb",
      "provenance": [],
      "collapsed_sections": [],
      "authorship_tag": "ABX9TyPjaPJBxUsqOk5/zu2wu/bU",
      "include_colab_link": true
    },
    "kernelspec": {
      "name": "python3",
      "display_name": "Python 3"
    },
    "language_info": {
      "name": "python"
    }
  },
  "cells": [
    {
      "cell_type": "markdown",
      "metadata": {
        "id": "view-in-github",
        "colab_type": "text"
      },
      "source": [
        "<a href=\"https://colab.research.google.com/github/ManJ-PC/HelloCodeSchoolProject/blob/master/Desafio.ipynb\" target=\"_parent\"><img src=\"https://colab.research.google.com/assets/colab-badge.svg\" alt=\"Open In Colab\"/></a>"
      ]
    },
    {
      "cell_type": "markdown",
      "source": [
        "Criar um classificador binário de imagens utilizando Keras e Tensorflow.\n",
        "\n",
        "Para isso deixo ao teu critério escolheres 2 classes para construir o classificador.\n",
        "Como dataset para treino usa 70% do dataset, 20% para test e 10% para validação."
      ],
      "metadata": {
        "id": "EhMIYtRY7UyU"
      }
    },
    {
      "cell_type": "markdown",
      "source": [
        "Parafraseando este [artigo](https://https://repositorio-aberto.up.pt/bitstream/10216/129193/2/418655.pdf): \"A validação em machine learning é o processo de avaliar um modelo treinado num conjunto de\n",
        "dados de teste de modo a estimar a sua capacidade de generalização em novos contextos. Assim,\n",
        "permite identificar situações como o sobreajuste (do inglês overfitting), na qual um modelo está\n",
        "demasiado adaptado aos dados de treino. Geralmente os dados são divididos em três partes: treino,\n",
        "validação e teste. Pela mesma ordem, estes são usados para o treino do modelo, ajuste dos hiperparâmetros, e na avaliação imparcial do modelo final. Este método de separação é denominado de\n",
        "validação cruzada holdout.\""
      ],
      "metadata": {
        "id": "quNKkQgi8BUy"
      }
    },
    {
      "cell_type": "code",
      "source": [
        "pip install Pillow"
      ],
      "metadata": {
        "id": "xHhXr2qGCGgt"
      },
      "execution_count": null,
      "outputs": []
    },
    {
      "cell_type": "code",
      "source": [
        "# check Pillow version number\n",
        "import PIL\n",
        "print('Pillow Version:', PIL.__version__)"
      ],
      "metadata": {
        "id": "K2PFug9ECKxE"
      },
      "execution_count": null,
      "outputs": []
    },
    {
      "cell_type": "code",
      "execution_count": null,
      "metadata": {
        "id": "JfRaNyg57Kky"
      },
      "outputs": [],
      "source": [
        "import tensorflow as tf\n",
        "import numpy as np\n",
        "import PIL.Image as PImage\n",
        "import matplotlib.pyplot as plt\n",
        "\n",
        "IMAGE_RES = 224"
      ]
    },
    {
      "cell_type": "code",
      "source": [
        ""
      ],
      "metadata": {
        "id": "NrxEftBlCEqP"
      },
      "execution_count": null,
      "outputs": []
    },
    {
      "cell_type": "markdown",
      "source": [
        "# Load Mobilenet model\n",
        "\n"
      ],
      "metadata": {
        "id": "1a7B8gFP-QJE"
      }
    },
    {
      "cell_type": "code",
      "source": [
        "model = tf.keras.applications.mobilenet_v2.MobileNetV2(weights='imagenet')\n",
        "model.summary()"
      ],
      "metadata": {
        "id": "xmMLaXgr-PRz"
      },
      "execution_count": null,
      "outputs": []
    },
    {
      "cell_type": "code",
      "source": [
        "labels_path = tf.keras.utils.get_file('ImageNetLabels.txt', 'https://storage.googleapis.com/download.tensorflow.org/data/ImageNetLabels.txt')\n",
        "imagenet_labels = np.array(open(labels_path).read().splitlines())\n",
        "\n",
        "image_path = tf.keras.utils.get_file('grace_hopper.jpg', 'https://storage.googleapis.com/download.tensorflow.org/example_images/grace_hopper.jpg')\n",
        "image1 = PImage.open(image_path).resize((IMAGE_RES, IMAGE_RES))\n",
        "image_path = tf.keras.utils.get_file('STOP.jpg', 'https://upload.wikimedia.org/wikipedia/commons/f/f9/STOP_sign.jpg')\n",
        "image2 = PImage.open(image_path).resize((IMAGE_RES, IMAGE_RES))\n",
        "\n",
        "plt.subplot(1,2,1)\n",
        "plt.imshow(image1)\n",
        "plt.axis('off')\n",
        "_ = plt.title(\"Grace\")\n",
        "\n",
        "plt.subplot(1,2,2)\n",
        "plt.imshow(image2)\n",
        "plt.axis('off')\n",
        "_ = plt.title(\"Stop sign\")\n",
        "\n",
        "plt.show()"
      ],
      "metadata": {
        "id": "7B2pA5lZ-jtn"
      },
      "execution_count": null,
      "outputs": []
    },
    {
      "cell_type": "markdown",
      "source": [
        "# Make a test batch"
      ],
      "metadata": {
        "id": "iUDcOdfgD2Fl"
      }
    },
    {
      "cell_type": "code",
      "source": [
        "x1 = np.array(image1) #matriz 4 D ao invês de 3D,  dou a primeira img\n",
        "x2 = np.array(image2) #batch o conj. das duas iamgens\n",
        "print(\"x1.shape:\", x1.shape)\n",
        "print(\"x1.shape:\", x1.shape)\n",
        "x=np.zeros( (2,IMAGE_RES, IMAGE_RES, 3))\n",
        "#x = x1[np.newaxis, ...]\n",
        "x[0] = x1\n",
        "x[1] = x2\n",
        "\n",
        "print(\"batch shape\", x.shape)\n",
        "#x = x / 255.0\n",
        "x = x / 255.0\n",
        "x = x * 2.0\n",
        "x = x - 1.0"
      ],
      "metadata": {
        "id": "yYrObqvcC1px"
      },
      "execution_count": null,
      "outputs": []
    },
    {
      "cell_type": "markdown",
      "source": [
        "#Use the model to predict classes"
      ],
      "metadata": {
        "id": "m8CbhRdSFHm1"
      }
    },
    {
      "cell_type": "code",
      "source": [
        "result = model.predict(x)\n",
        "print(result.shape)\n",
        "predicted_class1 = np.argmax(result[0], axis=-1)\n",
        "print(\"predicted_class1:\", predicted_class1)\n",
        "predicted_class2 = np.argmax(result[1], axis=-1)\n",
        "print(\"predicted_class2:\", predicted_class2)\n",
        "\n",
        "predicted_class_name1 = imagenet_labels[predicted_class1+1]\n",
        "print(\"predicted_class_name1:\", predicted_class_name1)\n",
        "predicted_class_name2= imagenet_labels[predicted_class2+1]\n",
        "print(\"predicted_class_name2:\", predicted_class_name2)"
      ],
      "metadata": {
        "id": "t5MOIr1WE_Vg"
      },
      "execution_count": null,
      "outputs": []
    },
    {
      "cell_type": "markdown",
      "source": [
        "# Validation"
      ],
      "metadata": {
        "id": "cQiy0fVSTlZx"
      }
    },
    {
      "cell_type": "code",
      "source": [
        "from sklearn.model_selection import cross_val_score\n",
        "from sklearn.model_selection import ShuffleSplit"
      ],
      "metadata": {
        "id": "SaJk5u-xVCwq"
      },
      "execution_count": null,
      "outputs": []
    },
    {
      "cell_type": "code",
      "source": [
        "# pip install kaggle\n",
        "# mkdir ~/.kaggle\n",
        "# cp kaggle.json ~/.kaggle/\n",
        "# ls -l\n",
        "# #chmod 600 ~/.kaggle/kaggle.json\n",
        "# #kaggle competi"
      ],
      "metadata": {
        "id": "jxsLK4MSdvUS"
      },
      "execution_count": null,
      "outputs": []
    },
    {
      "cell_type": "code",
      "source": [
        ""
      ],
      "metadata": {
        "id": "wsG1FcgDdzuA"
      },
      "execution_count": null,
      "outputs": []
    },
    {
      "cell_type": "code",
      "source": [
        ""
      ],
      "metadata": {
        "id": "l0KOBQmreD_4"
      },
      "execution_count": null,
      "outputs": []
    },
    {
      "cell_type": "code",
      "source": [
        ""
      ],
      "metadata": {
        "colab": {
          "base_uri": "https://localhost:8080/"
        },
        "id": "2oWR_lbfeZIk",
        "outputId": "9fa9a791-177d-41bb-f2a0-27b321b076c1"
      },
      "execution_count": 46,
      "outputs": [
        {
          "output_type": "stream",
          "name": "stdout",
          "text": [
            "total 8\n",
            "-rw-r--r-- 1 root root   62 Feb 22 08:05 kaggle.json\n",
            "drwxr-xr-x 1 root root 4096 Feb  1 14:32 \u001b[0m\u001b[01;34msample_data\u001b[0m/\n"
          ]
        }
      ]
    },
    {
      "cell_type": "code",
      "source": [
        ""
      ],
      "metadata": {
        "id": "DUhq5eT6e9jQ"
      },
      "execution_count": null,
      "outputs": []
    },
    {
      "cell_type": "code",
      "source": [
        ""
      ],
      "metadata": {
        "colab": {
          "base_uri": "https://localhost:8080/",
          "height": 131
        },
        "id": "W2lztvSafYLg",
        "outputId": "4d0d970d-7bb6-4bc5-be35-ab9d0430bacd"
      },
      "execution_count": 48,
      "outputs": [
        {
          "output_type": "error",
          "ename": "SyntaxError",
          "evalue": "ignored",
          "traceback": [
            "\u001b[0;36m  File \u001b[0;32m\"<ipython-input-48-e435b63405a7>\"\u001b[0;36m, line \u001b[0;32m1\u001b[0m\n\u001b[0;31m    chmod 600 ~/.kaggle/kaggle.json\u001b[0m\n\u001b[0m            ^\u001b[0m\n\u001b[0;31mSyntaxError\u001b[0m\u001b[0;31m:\u001b[0m invalid syntax\n"
          ]
        }
      ]
    },
    {
      "cell_type": "code",
      "source": [
        "scores = cross_val_scores(model. )\n"
      ],
      "metadata": {
        "id": "sZbiXBNnGhyx"
      },
      "execution_count": null,
      "outputs": []
    },
    {
      "cell_type": "code",
      "source": [
        ""
      ],
      "metadata": {
        "id": "4iMSRaUjRHkd"
      },
      "execution_count": null,
      "outputs": []
    }
  ]
}