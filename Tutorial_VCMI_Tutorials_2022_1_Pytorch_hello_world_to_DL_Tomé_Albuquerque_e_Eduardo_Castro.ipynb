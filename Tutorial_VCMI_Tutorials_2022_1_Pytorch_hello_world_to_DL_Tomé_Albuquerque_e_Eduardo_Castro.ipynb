{
  "nbformat": 4,
  "nbformat_minor": 0,
  "metadata": {
    "colab": {
      "name": "Tutorial_VCMI_Tutorials_2022_1_Pytorch_hello_world_to_DL_Tomé_Albuquerque_e_Eduardo_Castro.ipynb",
      "provenance": [],
      "collapsed_sections": [],
      "toc_visible": true,
      "include_colab_link": true
    },
    "kernelspec": {
      "name": "python3",
      "display_name": "Python 3"
    },
    "accelerator": "GPU",
    "widgets": {
      "application/vnd.jupyter.widget-state+json": {
        "ee1c86c531eb4dd89f7afd4cb7b7beec": {
          "model_module": "@jupyter-widgets/controls",
          "model_name": "HBoxModel",
          "model_module_version": "1.5.0",
          "state": {
            "_view_name": "HBoxView",
            "_dom_classes": [],
            "_model_name": "HBoxModel",
            "_view_module": "@jupyter-widgets/controls",
            "_model_module_version": "1.5.0",
            "_view_count": null,
            "_view_module_version": "1.5.0",
            "box_style": "",
            "layout": "IPY_MODEL_c50a1fcf1fd94091876df8a0383d2cf4",
            "_model_module": "@jupyter-widgets/controls",
            "children": [
              "IPY_MODEL_aa6360310a314786957014de31e72cfb",
              "IPY_MODEL_b2317f5a7be341daa29ceb8900c5a956",
              "IPY_MODEL_6db541361bff482995e619d0e32e49b8"
            ]
          }
        },
        "c50a1fcf1fd94091876df8a0383d2cf4": {
          "model_module": "@jupyter-widgets/base",
          "model_name": "LayoutModel",
          "model_module_version": "1.2.0",
          "state": {
            "_view_name": "LayoutView",
            "grid_template_rows": null,
            "right": null,
            "justify_content": null,
            "_view_module": "@jupyter-widgets/base",
            "overflow": null,
            "_model_module_version": "1.2.0",
            "_view_count": null,
            "flex_flow": null,
            "width": null,
            "min_width": null,
            "border": null,
            "align_items": null,
            "bottom": null,
            "_model_module": "@jupyter-widgets/base",
            "top": null,
            "grid_column": null,
            "overflow_y": null,
            "overflow_x": null,
            "grid_auto_flow": null,
            "grid_area": null,
            "grid_template_columns": null,
            "flex": null,
            "_model_name": "LayoutModel",
            "justify_items": null,
            "grid_row": null,
            "max_height": null,
            "align_content": null,
            "visibility": null,
            "align_self": null,
            "height": null,
            "min_height": null,
            "padding": null,
            "grid_auto_rows": null,
            "grid_gap": null,
            "max_width": null,
            "order": null,
            "_view_module_version": "1.2.0",
            "grid_template_areas": null,
            "object_position": null,
            "object_fit": null,
            "grid_auto_columns": null,
            "margin": null,
            "display": null,
            "left": null
          }
        },
        "aa6360310a314786957014de31e72cfb": {
          "model_module": "@jupyter-widgets/controls",
          "model_name": "HTMLModel",
          "model_module_version": "1.5.0",
          "state": {
            "_view_name": "HTMLView",
            "style": "IPY_MODEL_eca6bcdab5ba4307be1245b3134179da",
            "_dom_classes": [],
            "description": "",
            "_model_name": "HTMLModel",
            "placeholder": "​",
            "_view_module": "@jupyter-widgets/controls",
            "_model_module_version": "1.5.0",
            "value": "100%",
            "_view_count": null,
            "_view_module_version": "1.5.0",
            "description_tooltip": null,
            "_model_module": "@jupyter-widgets/controls",
            "layout": "IPY_MODEL_b219d60e10924c17ad1572b12b3a867e"
          }
        },
        "b2317f5a7be341daa29ceb8900c5a956": {
          "model_module": "@jupyter-widgets/controls",
          "model_name": "FloatProgressModel",
          "model_module_version": "1.5.0",
          "state": {
            "_view_name": "ProgressView",
            "style": "IPY_MODEL_ef7361a3564843059647697c1d779d40",
            "_dom_classes": [],
            "description": "",
            "_model_name": "FloatProgressModel",
            "bar_style": "success",
            "max": 14212972,
            "_view_module": "@jupyter-widgets/controls",
            "_model_module_version": "1.5.0",
            "value": 14212972,
            "_view_count": null,
            "_view_module_version": "1.5.0",
            "orientation": "horizontal",
            "min": 0,
            "description_tooltip": null,
            "_model_module": "@jupyter-widgets/controls",
            "layout": "IPY_MODEL_8138263adf7344279c40a19c8bd3ed38"
          }
        },
        "6db541361bff482995e619d0e32e49b8": {
          "model_module": "@jupyter-widgets/controls",
          "model_name": "HTMLModel",
          "model_module_version": "1.5.0",
          "state": {
            "_view_name": "HTMLView",
            "style": "IPY_MODEL_31c29ab3b6d04ade977188acce17bf9f",
            "_dom_classes": [],
            "description": "",
            "_model_name": "HTMLModel",
            "placeholder": "​",
            "_view_module": "@jupyter-widgets/controls",
            "_model_module_version": "1.5.0",
            "value": " 13.6M/13.6M [00:00&lt;00:00, 19.6MB/s]",
            "_view_count": null,
            "_view_module_version": "1.5.0",
            "description_tooltip": null,
            "_model_module": "@jupyter-widgets/controls",
            "layout": "IPY_MODEL_317f6cc092434b9485982c87ab203642"
          }
        },
        "eca6bcdab5ba4307be1245b3134179da": {
          "model_module": "@jupyter-widgets/controls",
          "model_name": "DescriptionStyleModel",
          "model_module_version": "1.5.0",
          "state": {
            "_view_name": "StyleView",
            "_model_name": "DescriptionStyleModel",
            "description_width": "",
            "_view_module": "@jupyter-widgets/base",
            "_model_module_version": "1.5.0",
            "_view_count": null,
            "_view_module_version": "1.2.0",
            "_model_module": "@jupyter-widgets/controls"
          }
        },
        "b219d60e10924c17ad1572b12b3a867e": {
          "model_module": "@jupyter-widgets/base",
          "model_name": "LayoutModel",
          "model_module_version": "1.2.0",
          "state": {
            "_view_name": "LayoutView",
            "grid_template_rows": null,
            "right": null,
            "justify_content": null,
            "_view_module": "@jupyter-widgets/base",
            "overflow": null,
            "_model_module_version": "1.2.0",
            "_view_count": null,
            "flex_flow": null,
            "width": null,
            "min_width": null,
            "border": null,
            "align_items": null,
            "bottom": null,
            "_model_module": "@jupyter-widgets/base",
            "top": null,
            "grid_column": null,
            "overflow_y": null,
            "overflow_x": null,
            "grid_auto_flow": null,
            "grid_area": null,
            "grid_template_columns": null,
            "flex": null,
            "_model_name": "LayoutModel",
            "justify_items": null,
            "grid_row": null,
            "max_height": null,
            "align_content": null,
            "visibility": null,
            "align_self": null,
            "height": null,
            "min_height": null,
            "padding": null,
            "grid_auto_rows": null,
            "grid_gap": null,
            "max_width": null,
            "order": null,
            "_view_module_version": "1.2.0",
            "grid_template_areas": null,
            "object_position": null,
            "object_fit": null,
            "grid_auto_columns": null,
            "margin": null,
            "display": null,
            "left": null
          }
        },
        "ef7361a3564843059647697c1d779d40": {
          "model_module": "@jupyter-widgets/controls",
          "model_name": "ProgressStyleModel",
          "model_module_version": "1.5.0",
          "state": {
            "_view_name": "StyleView",
            "_model_name": "ProgressStyleModel",
            "description_width": "",
            "_view_module": "@jupyter-widgets/base",
            "_model_module_version": "1.5.0",
            "_view_count": null,
            "_view_module_version": "1.2.0",
            "bar_color": null,
            "_model_module": "@jupyter-widgets/controls"
          }
        },
        "8138263adf7344279c40a19c8bd3ed38": {
          "model_module": "@jupyter-widgets/base",
          "model_name": "LayoutModel",
          "model_module_version": "1.2.0",
          "state": {
            "_view_name": "LayoutView",
            "grid_template_rows": null,
            "right": null,
            "justify_content": null,
            "_view_module": "@jupyter-widgets/base",
            "overflow": null,
            "_model_module_version": "1.2.0",
            "_view_count": null,
            "flex_flow": null,
            "width": null,
            "min_width": null,
            "border": null,
            "align_items": null,
            "bottom": null,
            "_model_module": "@jupyter-widgets/base",
            "top": null,
            "grid_column": null,
            "overflow_y": null,
            "overflow_x": null,
            "grid_auto_flow": null,
            "grid_area": null,
            "grid_template_columns": null,
            "flex": null,
            "_model_name": "LayoutModel",
            "justify_items": null,
            "grid_row": null,
            "max_height": null,
            "align_content": null,
            "visibility": null,
            "align_self": null,
            "height": null,
            "min_height": null,
            "padding": null,
            "grid_auto_rows": null,
            "grid_gap": null,
            "max_width": null,
            "order": null,
            "_view_module_version": "1.2.0",
            "grid_template_areas": null,
            "object_position": null,
            "object_fit": null,
            "grid_auto_columns": null,
            "margin": null,
            "display": null,
            "left": null
          }
        },
        "31c29ab3b6d04ade977188acce17bf9f": {
          "model_module": "@jupyter-widgets/controls",
          "model_name": "DescriptionStyleModel",
          "model_module_version": "1.5.0",
          "state": {
            "_view_name": "StyleView",
            "_model_name": "DescriptionStyleModel",
            "description_width": "",
            "_view_module": "@jupyter-widgets/base",
            "_model_module_version": "1.5.0",
            "_view_count": null,
            "_view_module_version": "1.2.0",
            "_model_module": "@jupyter-widgets/controls"
          }
        },
        "317f6cc092434b9485982c87ab203642": {
          "model_module": "@jupyter-widgets/base",
          "model_name": "LayoutModel",
          "model_module_version": "1.2.0",
          "state": {
            "_view_name": "LayoutView",
            "grid_template_rows": null,
            "right": null,
            "justify_content": null,
            "_view_module": "@jupyter-widgets/base",
            "overflow": null,
            "_model_module_version": "1.2.0",
            "_view_count": null,
            "flex_flow": null,
            "width": null,
            "min_width": null,
            "border": null,
            "align_items": null,
            "bottom": null,
            "_model_module": "@jupyter-widgets/base",
            "top": null,
            "grid_column": null,
            "overflow_y": null,
            "overflow_x": null,
            "grid_auto_flow": null,
            "grid_area": null,
            "grid_template_columns": null,
            "flex": null,
            "_model_name": "LayoutModel",
            "justify_items": null,
            "grid_row": null,
            "max_height": null,
            "align_content": null,
            "visibility": null,
            "align_self": null,
            "height": null,
            "min_height": null,
            "padding": null,
            "grid_auto_rows": null,
            "grid_gap": null,
            "max_width": null,
            "order": null,
            "_view_module_version": "1.2.0",
            "grid_template_areas": null,
            "object_position": null,
            "object_fit": null,
            "grid_auto_columns": null,
            "margin": null,
            "display": null,
            "left": null
          }
        }
      }
    }
  },
  "cells": [
    {
      "cell_type": "markdown",
      "metadata": {
        "id": "view-in-github",
        "colab_type": "text"
      },
      "source": [
        "<a href=\"https://colab.research.google.com/github/ManJ-PC/HelloCodeSchoolProject/blob/master/Tutorial_VCMI_Tutorials_2022_1_Pytorch_hello_world_to_DL_Tom%C3%A9_Albuquerque_e_Eduardo_Castro.ipynb\" target=\"_parent\"><img src=\"https://colab.research.google.com/assets/colab-badge.svg\" alt=\"Open In Colab\"/></a>"
      ]
    },
    {
      "cell_type": "markdown",
      "metadata": {
        "id": "6SPnWRPay8ky"
      },
      "source": [
        "\n",
        "# Outline\n",
        "---\n",
        "\n",
        "### Motivation\n",
        "\n",
        "### Basics\n",
        "* From numpy to pytorch;\n",
        "* Autograd;\n",
        "* CUDA tensors;\n",
        "* The non-existent fit method;\n",
        "* **Example 1** - CIFAR 10 Classification;\n",
        "\n",
        "### Intermediate topics\n",
        "\n",
        "* Custom Datasets;\n",
        "* Data Augmentation;\n",
        "* Pretrained Models;\n",
        "* Custom Layers/Models;\n",
        "* **Example 2** - Multiclass Classification model for Cervical Cancer risk assessment;\n",
        "\n",
        "### Closing remarks\n",
        "* Some tips!\n",
        "* Next Tutorial.\n"
      ]
    },
    {
      "cell_type": "markdown",
      "metadata": {
        "id": "Yx4ntX2GMRnF"
      },
      "source": [
        "#Motivation\n",
        "\n",
        "---\n",
        "\n",
        "### Deep Learning -  a loose definition\n",
        "\n",
        "Deep learning is the use models with **many layers**, optimized using **gradient descent** where gradients are computed by **backpropagation**.\n",
        "\n",
        "\n",
        "\n",
        "\n",
        "#### Many Layered Model:\n",
        "<center> $ \\displaystyle \\hat{y} = \\sigma(V^T\\sigma(W^Tx))$ </center>\n",
        "\n",
        "#### Gradient Descent:\n",
        "<center> $ \\displaystyle W_{t+1} = W_{t} - \\gamma \\frac{\\partial}{\\partial W} C \\qquad \\qquad V_{t+1} = V_{t} - \\gamma \\frac{\\partial}{\\partial V} C $ </center>\n",
        "\n",
        "#### Backpropagation:\n",
        "<center> $ \\displaystyle \\frac{\\partial}{\\partial V} C = \n",
        "\\frac{\\partial \\hat{y}}{\\partial V}\n",
        "\\frac{\\partial}{\\partial \\hat{y}} C \\qquad \\qquad\n",
        "\\frac{\\partial}{\\partial W} C = \n",
        "\\frac{\\partial z_1}{\\partial W}\n",
        "\\frac{\\partial \\hat{y}}{\\partial z_1}\n",
        "\\frac{\\partial}{\\partial \\hat{y}} C$ </center>\n",
        "\n",
        "\\\\\n",
        "<center> $ \\displaystyle  $ </center>\n",
        "\n",
        "<center>\n",
        "\n",
        "<img src=\"https://drive.google.com/uc?export=view&id=1Hh-HJwXQdAm2mESorc5V8dFi7I_Hb7b2\" width=\"350\" hspace=\"30\">\n",
        "\n",
        "</br>\n",
        "\n",
        "</br>\n",
        "\n",
        "<img src=\"https://drive.google.com/uc?export=view&id=1Fxm0yU5xiRNZwVlElJm5q0WT9XLLx-bZ\" width=\"350\" hspace=\"30\">\n",
        "\n",
        "<img src=\"https://drive.google.com/uc?export=view&id=1e9N27Opgm8aocKJ3e2MuUyjVA-e73sX6\" width=\"280\" hspace=\"30\">\n",
        "\n",
        "Figure 1. Bottom-left image was reproduced from [[1](https://medium.com/hackernoon/gradient-descent-aynk-7cbe95a778da)]\n"
      ]
    },
    {
      "cell_type": "markdown",
      "metadata": {
        "id": "Bif8bv3obyvZ"
      },
      "source": [
        "**We can do all that in NumPy. Why use PyTorch?**\n",
        "\n",
        "* Some functions/classes are already implemented (torch.nn);\n",
        "* Easy to use the GPU (accelaration);\n",
        "* Automatic differentiation;\n",
        "\n",
        "**We can do all that in Keras. Why use PyTorch?**\n",
        "* more control over what is happening since Keras is a \"high-level\" package;"
      ]
    },
    {
      "cell_type": "markdown",
      "source": [
        "# Basics\n",
        "---"
      ],
      "metadata": {
        "id": "Pw1RBVM4pCoZ"
      }
    },
    {
      "cell_type": "markdown",
      "metadata": {
        "id": "E3ODnUK8_aKt"
      },
      "source": [
        "## From numpy to pytorch\n",
        "\n",
        "Manipulating variables in numpy and pytorch is similar:\n",
        "\n",
        "Numpy | Pytorch\n",
        "--- | ---\n",
        "np.array ( [ 1, 2, 3, 4, 5, 6 ] ) | torch.tensor([ 1, 2, 3, 4, 5, 6 ])\n",
        "np.arange (0, 10) | torch.arange(0, 10)\n",
        "array.shape | tensor.shape\n",
        "array1 + array2 | tensor1 + tensor2\n",
        "np.concatenate | torch.cat\n",
        "np.max | torch.max\n",
        "np.exp | torch.exp"
      ]
    },
    {
      "cell_type": "code",
      "metadata": {
        "id": "vaLNrREUA7J5",
        "colab": {
          "base_uri": "https://localhost:8080/"
        },
        "outputId": "23fd2269-78bc-4a80-efc0-2fab35011ff2"
      },
      "source": [
        "# the same code in numpy and pytorch\n",
        "import numpy as np\n",
        "import torch\n",
        "\n",
        "# create an array\n",
        "array = np.array([1,2,3,4,5,6], dtype=float)\n",
        "array = array.reshape((2, 3))\n",
        "print(\"1. Array Creation:\")\n",
        "print(array, \"\\nshape:\", array.shape)\n",
        "\n",
        "print(\"\\n2. Element-wise multiplication and concatenation:\")\n",
        "# element-wise multiplication\n",
        "array = array * 2\n",
        "array = np.concatenate((array, array))\n",
        "print(array)\n",
        "\n",
        "print(\"\\n3. Maximum of array:\")\n",
        "value = np.max(array)\n",
        "print(value)\n",
        "\n",
        "print(\"\\n4. Tensor Creation:\")\n",
        "# create a tensor (try to add requires_grad=True to torch.tensor and run again)\n",
        "tensor = torch.tensor([1,2,3,4,5,6], dtype=float)\n",
        "tensor = tensor.reshape((2, 3))\n",
        "print(tensor, \"\\nshape:\", tensor.shape)\n",
        "\n",
        "print(\"\\n5. Element-wise multiplication and concatenation:\")\n",
        "# element-wise multiplication\n",
        "tensor = tensor * 2\n",
        "tensor = torch.cat((tensor, tensor))\n",
        "print(tensor)\n",
        "\n",
        "print(\"\\n6. Maximum of tensor:\")\n",
        "value = torch.max(tensor)\n",
        "print(value)\n",
        "\n",
        "print(\"\\n7. Back to numpy:\")\n",
        "print(tensor.detach().cpu().numpy())"
      ],
      "execution_count": null,
      "outputs": [
        {
          "output_type": "stream",
          "name": "stdout",
          "text": [
            "1. Array Creation:\n",
            "[[1. 2. 3.]\n",
            " [4. 5. 6.]] \n",
            "shape: (2, 3)\n",
            "\n",
            "2. Element-wise multiplication and concatenation:\n",
            "[[ 2.  4.  6.]\n",
            " [ 8. 10. 12.]\n",
            " [ 2.  4.  6.]\n",
            " [ 8. 10. 12.]]\n",
            "\n",
            "3. Maximum of array:\n",
            "12.0\n",
            "\n",
            "4. Tensor Creation:\n",
            "tensor([[1., 2., 3.],\n",
            "        [4., 5., 6.]], dtype=torch.float64) \n",
            "shape: torch.Size([2, 3])\n",
            "\n",
            "5. Element-wise multiplication and concatenation:\n",
            "tensor([[ 2.,  4.,  6.],\n",
            "        [ 8., 10., 12.],\n",
            "        [ 2.,  4.,  6.],\n",
            "        [ 8., 10., 12.]], dtype=torch.float64)\n",
            "\n",
            "6. Maximum of tensor:\n",
            "tensor(12., dtype=torch.float64)\n",
            "\n",
            "7. Back to numpy:\n",
            "[[ 2.  4.  6.]\n",
            " [ 8. 10. 12.]\n",
            " [ 2.  4.  6.]\n",
            " [ 8. 10. 12.]]\n"
          ]
        }
      ]
    },
    {
      "cell_type": "markdown",
      "source": [
        "### Practise\n",
        "\n",
        "Consider the following regression model:\n",
        "\n",
        "$$\\hat{y}=w^Tx, \\qquad x, w\\in \\mathbb{R}^d$$\n",
        "\n",
        "\n",
        "By the linear least squares method we know that the following solution minimizes the sum of the squarred errors for all points:\n",
        "\n",
        "$$w = (X^TX)^{-1}X^Ty$$\n",
        "\n",
        "Can you implement that in pytorch?\n",
        "\n"
      ],
      "metadata": {
        "id": "OtKQiGS_oBtu"
      }
    },
    {
      "cell_type": "code",
      "source": [
        "import torch\n",
        "from matplotlib import pyplot as plt\n",
        "\n",
        "# generate toy data\n",
        "n = 100\n",
        "d = 1\n",
        "trans = torch.randn(d)\n",
        "error = torch.randn(n) * 0.1\n",
        "X = torch.randn(n, d)\n",
        "y = torch.matmul(X, trans) + error\n",
        "\n",
        "plt.scatter(X.numpy(), y.numpy())\n",
        "\n",
        "# your solution goes here\n",
        "XX_inv = torch.inverse(torch.matmul(X.T, X))\n",
        "Xy = torch.matmul(X.T, y)\n",
        "w = torch.matmul(XX_inv, Xy)\n",
        "\n",
        "print(w)\n",
        "axis_x = torch.linspace(-3, 3, 50)\n",
        "plt.plot(axis_x, w * axis_x, c=\"r\")\n"
      ],
      "metadata": {
        "colab": {
          "base_uri": "https://localhost:8080/",
          "height": 304
        },
        "id": "878yiNqVqnNw",
        "outputId": "759b18ff-5722-43a8-8a79-b2b77e2c8436"
      },
      "execution_count": null,
      "outputs": [
        {
          "output_type": "stream",
          "name": "stdout",
          "text": [
            "tensor([-0.8226])\n"
          ]
        },
        {
          "output_type": "execute_result",
          "data": {
            "text/plain": [
              "[<matplotlib.lines.Line2D at 0x7fe5c3a1c6d0>]"
            ]
          },
          "metadata": {},
          "execution_count": 2
        },
        {
          "output_type": "display_data",
          "data": {
            "image/png": "[encoded data removed]",
            "text/plain": [
              "<Figure size 432x288 with 1 Axes>"
            ]
          },
          "metadata": {
            "needs_background": "light"
          }
        }
      ]
    },
    {
      "cell_type": "markdown",
      "metadata": {
        "id": "aELevxqbEjP1"
      },
      "source": [
        "Pytorch variables, however, are different in at least two aspects.\n",
        "\n",
        "## Autograd\n",
        "\n",
        "First, *PyTorch operations* have *gradient operations* associated with them. \n",
        "If you define a python function composed of PyTorch operations, you can automatically obtain the tensors' gradients. This saves you time as you do not have to define a gradient function. Also, *PyTorch tensors* have a .grad attribute, which accumulates gradients for that variable.\n",
        "\n",
        "So, if you want to compute $\\frac{\\partial}{\\partial W} C $ for the following equation:\n",
        "\n",
        "<center> $ \\displaystyle W_{t+1} = W_{t} - \\gamma \\frac{\\partial}{\\partial W} C $ </center>\n",
        "\n",
        "you can define your $C$ as a python function composed of torch operations, and $W$ is a PyTorch tensor;\n",
        "\n",
        "(more on this: https://pytorch.org/tutorials/beginner/blitz/autograd_tutorial.html)"
      ]
    },
    {
      "cell_type": "code",
      "metadata": {
        "colab": {
          "base_uri": "https://localhost:8080/"
        },
        "id": "u7btxJG3qx2f",
        "outputId": "203d53f2-971b-4b98-a5f4-9ac03faa58ec"
      },
      "source": [
        "import torch\n",
        "from torch.autograd import grad\n",
        "\n",
        "w = torch.tensor(3, dtype=float, requires_grad=True)\n",
        "result = torch.pow(w, 2.0)\n",
        "\n",
        "print(\"This is also in numpy:\")\n",
        "print(\"w:\", w)\n",
        "print(\"w^2:\", result)\n",
        "\n",
        "print(\"\\nThis is not in numpy:\")\n",
        "# the gradient function d(result)/dw\n",
        "print(\"The output of the gradient function:\", grad(outputs=result, inputs=w))\n",
        "\n",
        "\n",
        "# Alternatively you can do this:\n",
        "w = torch.tensor(3, dtype=float, requires_grad=True)\n",
        "loss = torch.pow(w, 2.0)\n",
        "loss.backward()\n",
        "# the accumulated gradient after the backward pass\n",
        "print(\".grad after backward:\", w.grad)\n",
        "# now for each tensor with requires_grad=True\n",
        "# grad(outputs=loss, inputs=tensor) will be called and accumulated in the .grad attribute"
      ],
      "execution_count": null,
      "outputs": [
        {
          "output_type": "stream",
          "name": "stdout",
          "text": [
            "This is also in numpy:\n",
            "w: tensor(3., dtype=torch.float64, requires_grad=True)\n",
            "w^2: tensor(9., dtype=torch.float64, grad_fn=<PowBackward0>)\n",
            "\n",
            "This is not in numpy:\n",
            "The output of the gradient function: (tensor(6., dtype=torch.float64),)\n",
            ".grad after backward: tensor(6., dtype=torch.float64)\n"
          ]
        }
      ]
    },
    {
      "cell_type": "markdown",
      "metadata": {
        "id": "nq5JGB0WvErW"
      },
      "source": [
        "## CUDA variables\n",
        "\n",
        "Second, PyTorch tensors may be stored in the CPU memory (RAM) or GPU memory. When performing an operation, all tensors used in the process must be stored in the same place. Otherwise, an error will be raised. If they are stored in the GPU, you will use this unit to perform the computation. Otherwise, the CPU will be used. The same goes for machines with multiple GPUs. The *.to* method can be used to copy variables from different devices. Devices are called \"CPU\" for the CPU and \"cuda:n\" for the nth GPU.\n",
        "\n",
        "A useful trick is to write your code with a **device** variable. In this way, if you want to run in CPU or GPU, you can simply change this variable. Another useful trick is that, for models, *model.to* works for all parameters of the network.\n",
        "\n",
        "(more on this: https://pytorch.org/docs/stable/notes/cuda.html)"
      ]
    },
    {
      "cell_type": "code",
      "metadata": {
        "colab": {
          "base_uri": "https://localhost:8080/"
        },
        "id": "qbtUUPPjFQ00",
        "outputId": "d6c5faf0-1b70-4885-9fee-907c9e742145"
      },
      "source": [
        "import torch\n",
        "x = torch.tensor(1)\n",
        "y = torch.tensor(2)\n",
        "print(x+y)\n",
        "\n",
        "x = x.to(\"cuda:0\")\n",
        "y = y.to(\"cuda:0\")\n",
        "print(x+y)\n",
        "\n",
        "# Some useful code (if you share a machine with your collegues)\n",
        "GPU_TO_USE=\"0\"\n",
        "device = f\"cuda:{GPU_TO_USE}\" if torch.cuda.is_available() else \"cpu\"\n",
        "print(\"DEVICE:\", device)\n",
        "x = x.to(device)\n",
        "print(x)"
      ],
      "execution_count": null,
      "outputs": [
        {
          "output_type": "stream",
          "name": "stdout",
          "text": [
            "tensor(3)\n",
            "tensor(3, device='cuda:0')\n",
            "DEVICE: cuda:0\n",
            "tensor(1, device='cuda:0')\n"
          ]
        }
      ]
    },
    {
      "cell_type": "markdown",
      "metadata": {
        "id": "6LPIiNQfPUNv"
      },
      "source": [
        "## The non-existent fit method\n",
        "\n",
        "We will now use pytorch to solve the previous example but using gradient descent instead of an analytic solution.\n",
        "\n",
        "**Homework:**\n",
        " * Can you solve this example but using a GPU?\n",
        "\n",
        "**Optimizer Code:**\n",
        "```\n",
        "opt = torch.optim.SGD([w], learning_rate)  # Initialize the optimizer with your parameters\n",
        "(...)\n",
        "opt.zero_grad()   # Zero-out the gradients of the parameters;\n",
        "(...)             # Use the data and model to compute your loss value;\n",
        "error.backward()  # Compute the gradients by backprogation;\n",
        "opt.step()        # Perform gradient descent;\n",
        "```\n",
        "\n",
        "\n",
        "**from (CUDA and requires_grad=True) to numpy Code:**\n",
        "```\n",
        "w  # torch tensor\n",
        "w.detach()  # torch tensor without gradient and past operations\n",
        "w.cpu()   # torch tensor copied to cpu\n",
        "w.numpy()    # numpy array\n",
        "```"
      ]
    },
    {
      "cell_type": "code",
      "metadata": {
        "colab": {
          "base_uri": "https://localhost:8080/",
          "height": 552
        },
        "id": "XjESAptFPvmx",
        "outputId": "96a755ac-b254-4909-ab69-830f932c26d8"
      },
      "source": [
        "import torch\n",
        "from matplotlib import pyplot as plt\n",
        "\n",
        "# generate toy data\n",
        "n = 100\n",
        "d = 1\n",
        "trans = torch.randn(d)\n",
        "error = torch.randn(n) * 0.1\n",
        "X = torch.randn(n, d)\n",
        "y = torch.matmul(X, trans) + error\n",
        "\n",
        "plt.scatter(X.numpy(), y.numpy())\n",
        "\n",
        "# analitic\n",
        "XX_inv = torch.inverse(torch.matmul(X.T, X))\n",
        "Xy = torch.matmul(X.T, y)\n",
        "w_analitic = torch.matmul(XX_inv, Xy)\n",
        "\n",
        "print(w_analitic)\n",
        "axis_x = torch.linspace(-3, 3, 50)\n",
        "plt.plot(axis_x, w_analitic * axis_x, c=\"r\")\n",
        "\n",
        "# gradient descent\n",
        "iterations = 10\n",
        "learning_rate = 0.25\n",
        "w_desc = torch.randn(1, requires_grad=True)\n",
        "opt = torch.optim.SGD([w_desc], learning_rate)\n",
        "loss_history = []\n",
        "\n",
        "for i in range(iterations):\n",
        "  # optimization\n",
        "  opt.zero_grad()\n",
        "  output = torch.matmul(X, w_desc)\n",
        "  loss = torch.mean((y-output)**2)\n",
        "  loss.backward()\n",
        "  opt.step()\n",
        "\n",
        "  # saving results\n",
        "  loss_history.append(loss.detach().cpu().numpy().copy())\n",
        "\n",
        "plt.plot(axis_x, (w_desc * axis_x).detach(), ls=\"--\", c=\"g\")\n",
        "plt.figure()\n",
        "plt.plot(loss_history)"
      ],
      "execution_count": null,
      "outputs": [
        {
          "output_type": "stream",
          "name": "stdout",
          "text": [
            "tensor([-1.0066])\n"
          ]
        },
        {
          "output_type": "execute_result",
          "data": {
            "text/plain": [
              "[<matplotlib.lines.Line2D at 0x7fe5c3ac3410>]"
            ]
          },
          "metadata": {},
          "execution_count": 5
        },
        {
          "output_type": "display_data",
          "data": {
            "image/png": "[encoded data removed]",
            "text/plain": [
              "<Figure size 432x288 with 1 Axes>"
            ]
          },
          "metadata": {
            "needs_background": "light"
          }
        },
        {
          "output_type": "display_data",
          "data": {
            "image/png": "[encoded data removed]",
            "text/plain": [
              "<Figure size 432x288 with 1 Axes>"
            ]
          },
          "metadata": {
            "needs_background": "light"
          }
        }
      ]
    },
    {
      "cell_type": "markdown",
      "metadata": {
        "id": "PRkLcS-JYjXH"
      },
      "source": [
        "If you are familiar with Keras and Sklearn you know that to optimize a model you just call something like this:\n",
        "```\n",
        "model.fit(X, y)\n",
        "```\n",
        "\n",
        "Internally, Keras and Sklearn (when optimizing MLPs) are doing something similar to the previous example. In PyTorch, this looks something like this:\n",
        "\n",
        "```\n",
        "def train_epoch():\n",
        "    # lists that will save the training progression of the model  \n",
        "    train_losses = []\n",
        "    val_losses = []\n",
        "\n",
        "    # model in train mode - change the behaviour of dropout and batchnorm layers\n",
        "    model.train()\n",
        "\n",
        "    # run the training loop for all batches in epoch\n",
        "    for X, y in train_loader:\n",
        "      \n",
        "      X, y = X.to(device), y.to(device)  # data to device (gpu if using one)\n",
        "      opt.zero_grad()                    # set gradients to zero\n",
        "      y_ = model(X)                      # compute model output  \n",
        "      loss = loss_fn(y_, y)              # compute training loss for batch\n",
        "      loss.backward()                    # autograd/backprop magic!\n",
        "      opt.step()                         # run one step of gradient descend\n",
        "      loss = loss.detach().cpu().numpy() # reads - remove_gradient().to_cpu().to_numpy_array()\n",
        "      train_losses.append(loss)          # save current loss\n",
        "\n",
        "    # model in eval mode - change the behaviour of dropout and batchnorm layers\n",
        "    model.eval()\n",
        "\n",
        "    # computation within this block does not require gradients (we are in validation)\n",
        "    with torch.no_grad():\n",
        "\n",
        "      # run validation loop for all batches in epoch \n",
        "      for X, y in val_loader:\n",
        "        X, y = X.to(device), y.to(device)\n",
        "        y_ = model(X)\n",
        "        loss = loss_fn(y_, y)           # notice we do not call backward in validation\n",
        "        loss = loss.detach().cpu().numpy()\n",
        "        val_losses.append(loss)\n",
        "    return np.mean(train_losses), np.mean(val_losses)\n",
        "\n",
        "for epoch in range(n_epochs):\n",
        "    print(epoch, *train_epoch())\n",
        "```\n"
      ]
    },
    {
      "cell_type": "markdown",
      "metadata": {
        "id": "pZkx-pk4NM0o"
      },
      "source": [
        "## Example 1: CIFAR10 Classification with Deep Neural Networks\n",
        "\n",
        "We finish the basics with an exercise. Use the provided examples below to define your data, model, loss function, and optimizer. Complete the code below and train your classifier in PyTorch for the CIFAR10 dataset. You will find that although you can reinvent the wheel in PyTorch, usually you do not need to do so.\n",
        "\n",
        "\n",
        "<center>\n",
        "<img src=\"https://drive.google.com/uc?export=view&id=147m8A-V__JRsFA68K3Lo-WvOyu9S2D3d\" width=\"550\" hspace=\"30\">\n",
        "</center>\n",
        "\n",
        "## Data\n",
        "For loading and processing image data, the Torchvision package is handy. It contains most of the transformations you will ever use. Take a look here:\n",
        "\n",
        "https://pytorch.org/docs/stable/torchvision/transforms.html\n",
        "\n",
        "You can also use Torchvision to load \"famous\" datasets or to load your images directly from a folder. Alternatively, you may implement your own Dataset. We will look at this in a second, but further information can be found here:\n",
        "\n",
        "https://pytorch.org/tutorials/beginner/data_loading_tutorial.html\n",
        "\n",
        "Finally, the dataloader object handles things like multi-threading, batch creation, and data shuffling, etc. Most of the time, you will use the Pytorch dataloader, but there is useful information in the previous link if you want to look at it.\n",
        "\n",
        "**Why do we use batches and what is the batch size?**\n",
        "Training would require a lot more time if, for each gradient descent step we would need to feed all the training inputs to the model. By providing only a small batch of data in each step, we guaranty we have a sufficiently good approximation of the gradient, with a much smaller computational cost. This is the difference between classic gradient descent and stochastic gradient descent.\n",
        "\n",
        "**Transform object - useful for standarization/data augmentation**\n",
        "```\n",
        "transform = transforms.Compose([transforms.ToTensor(),\n",
        "                                transforms.Normalize([(0.5, 0.5, 0.5),\n",
        "                                                      (0.5, 0.5, 0.5)])\n",
        "```\n",
        "**Dataset object**\n",
        "```\n",
        "# torchvision dataset\n",
        "dataset = torchvision.datasets.CIFAR10(root='./data', train=True, download=True, transform=transform)\n",
        "\n",
        "# load from folder\n",
        "\"\"\"\n",
        " path should look like this\n",
        "dog/xxx.png\n",
        "dog/xxy.png\n",
        "dog/xxz.png\n",
        "cat/123.png\n",
        "cat/nsdf3.png\n",
        "cat/asd932_.png\n",
        "\"\"\"\n",
        "dataset = torchvision.datasets.ImageFolder(path, transform=transform)\n",
        "\n",
        "# custom dataset - here you define how to read your data\n",
        "dataset = myDataset(<your arguments>)\n",
        "```\n",
        "\n",
        "**Train, Validation and Test Split**\n",
        "\n",
        "You can use the utils.data module to split your dataset in train, validation and test. This way you can correctly evaluate your model in a subset of unseen data. Other types of division exist (e.g. K-fold validation) but for now this will suffice.\n",
        "```\n",
        "torch.utils.data.random_split(dataset, [train_length, val_length, test_length])\n",
        "```\n",
        "\n",
        "\n",
        "**Dataloader**\n",
        "```\n",
        "loader = torch.utils.data.DataLoader(dataset, batch_size=4, shuffle=True, num_workers=2)\n",
        "```\n",
        "\n",
        "\n",
        "\n",
        "## Model\n",
        "When building a model in PyTorch, **torch.nn** is your best friend:\n",
        "\n",
        "https://pytorch.org/docs/stable/nn.html\n",
        "\n",
        "It contains all layers you will use in your work except if you are researching something new, yet to be implemented. Layers, sub-layers, and models extend the nn.Module class. For this, you need to implement the **forward** method, which is called when you do something like \"model(X)\" or \"model.conv1(X)\", and returns the result of the operation. Weights are initialized at layer level. If you build a custom one, you are responsible by initializing the weights.\n",
        "\n",
        "The example below shows how to implement a simple model. In this case, we use the nn.Sequential module which implements the **forward** method by composing all layers sequentially. Later we will write our custom model in PyTorch by extending nn.Module.\n",
        "\n",
        "```\n",
        "model = nn.Sequential(nn.Conv2d(3, 6, 5),nn.ReLU(),nn.MaxPool2d(2, 2),\n",
        "                      nn.Conv2d(6, 16, 5),nn.ReLU(),nn.MaxPool2d(2, 2),\n",
        "                      nn.Linear(16 * 5 * 5, 120),nn.ReLU(),\n",
        "                      nn.Linear(120, 84),nn.ReLU(),\n",
        "                      nn.Linear(84, 10))\n",
        "```\n",
        "\n",
        "\n",
        "\n",
        "\n",
        "\n",
        "## Optimizer\n",
        "\n",
        "The torch.optim package implements several optimizers used to train deep neural networks. The two most famous examples are probably stochastic gradient descent with momentum and the Adam algorithm.\n",
        "```\n",
        "optimizer = optim.SGD(model.parameters(), lr=0.01, momentum=0.9)\n",
        "```\n",
        "```\n",
        "optimizer = optim.Adam(model.parameters(), lr=0.0001)\n",
        "```\n",
        "\n",
        "## Loss function\n",
        "\n",
        "The torch.nn module also implements several loss functions for you to use in your models:\n",
        "```\n",
        "loss_fn = torch.nn.CrossEntropyLoss()\n",
        "```\n",
        "```\n",
        "loss_fn = torch.nn.MSELoss()  # the mean squarred error is not used for classification!\n",
        "```"
      ]
    },
    {
      "cell_type": "code",
      "metadata": {
        "colab": {
          "base_uri": "https://localhost:8080/"
        },
        "id": "qv4E1MsRckdC",
        "outputId": "e2bb8cf0-2517-443b-d708-1618ae18886a"
      },
      "source": [
        "import torch\n",
        "import torchvision\n",
        "import torchvision.transforms as transforms\n",
        "import torch.nn as nn\n",
        "import torch.nn.functional as F\n",
        "import torch.optim as optim\n",
        "import numpy as np\n",
        "from matplotlib import pyplot as pl\n",
        "\n",
        "GPU_TO_USE=\"0\"\n",
        "device = f\"cuda:{GPU_TO_USE}\" if torch.cuda.is_available() else \"cpu\"\n",
        "\n",
        "transform = transforms.Compose([transforms.ToTensor(), transforms.Normalize((0.5, 0.5, 0.5), (0.5, 0.5, 0.5))])\n",
        "trainset = torchvision.datasets.CIFAR10(root='./data', train=True, download=True, transform=transform)\n",
        "train_loader = torch.utils.data.DataLoader(trainset, batch_size=256, shuffle=True, num_workers=4)\n",
        "\n",
        "testset = torchvision.datasets.CIFAR10(root='./data', train=False, download=True, transform=transform)\n",
        "val_loader = torch.utils.data.DataLoader(testset, batch_size=256, shuffle=False, num_workers=4)\n",
        "\n",
        "classes = ('plane', 'car', 'bird', 'cat', 'deer', 'dog', 'frog', 'horse', 'ship', 'truck')\n",
        "\n",
        "model = nn.Sequential(\n",
        "          nn.Conv2d(3, 6, 5),\n",
        "          nn.ReLU(),\n",
        "          nn.MaxPool2d(2, 2),\n",
        "          nn.Conv2d(6, 16, 5),\n",
        "          nn.ReLU(),\n",
        "          nn.MaxPool2d(2, 2),\n",
        "          nn.Flatten(),\n",
        "          nn.Linear(16 * 5 * 5, 120),\n",
        "          nn.ReLU(),\n",
        "          nn.Linear(120, 84),\n",
        "          nn.ReLU(),\n",
        "          nn.Linear(84, 10)\n",
        "        )\n",
        "model = model.to(device)\n",
        "loss_fn = nn.CrossEntropyLoss()\n",
        "optimizer = optim.Adam(model.parameters())\n",
        "\n",
        "print(model)\n",
        "\n",
        "def train_epoch():\n",
        "    train_losses = []\n",
        "    val_losses = []\n",
        "    \n",
        "    # used for accuracy computation\n",
        "    train_correct = 0\n",
        "    train_total = 0\n",
        "    val_correct = 0\n",
        "    val_total = 0\n",
        " \n",
        "    print(\"\\nTrain\")\n",
        "    model.train()    \n",
        "    for i, (X, y) in enumerate(train_loader):\n",
        "      print(\"\\rtrain: {:.0%}\".format(i/len(train_loader)), end=\"\", flush=True)\n",
        "      X, y = X.to(device), y.to(device)\n",
        "      optimizer.zero_grad()\n",
        "      y_ = model(X)\n",
        "      loss = loss_fn(y_, y)\n",
        "      loss.backward()\n",
        "      optimizer.step()\n",
        "      \n",
        "      train_losses.append(loss.detach().cpu().numpy())\n",
        "\n",
        "      # compute valus for accuracy\n",
        "      _, predicted = torch.max(y_.data, 1)\n",
        "      train_correct += (predicted == y).sum().item()\n",
        "      train_total += y.size(0)\n",
        "      \n",
        " \n",
        "    print(\"\\nValidation\")\n",
        "    model.eval()\n",
        "    with torch.no_grad():\n",
        "      for i, (X, y) in enumerate(val_loader):\n",
        "        print(\"\\rvalid: {:.0%}\".format(i/len(val_loader)), end=\"\", flush=True)\n",
        "        X, y = X.to(device), y.to(device)\n",
        "        y_ = model(X)\n",
        "        loss = loss_fn(y_, y)\n",
        "        val_losses.append(loss.detach().cpu().numpy())\n",
        "\n",
        "        _, predicted = torch.max(y_.data, 1)\n",
        "        val_correct += (predicted == y).sum().item()\n",
        "        val_total += y.size(0)\n",
        "\n",
        "    return  np.mean(train_losses), np.mean(val_losses),\\\n",
        "    train_correct/train_total,val_correct/val_total\n",
        " \n",
        "n_epochs = 10\n",
        "for epoch in range(n_epochs):\n",
        "    train_loss, valid_loss, train_acc, val_accuracy = train_epoch()\n",
        "    print(f\"\\nEpoch: {epoch}\\n\",\n",
        "          f\"\\ttrain loss: {train_loss}\\n\",\n",
        "          f\"\\tvalid loss: {valid_loss}\\n\",\n",
        "          f\"\\ttrain acc: {train_acc*100}%\\n\",\n",
        "          f\"\\tvalid acc {val_accuracy*100}%\",)"
      ],
      "execution_count": null,
      "outputs": [
        {
          "output_type": "stream",
          "name": "stdout",
          "text": [
            "Files already downloaded and verified\n"
          ]
        },
        {
          "output_type": "stream",
          "name": "stderr",
          "text": [
            "/usr/local/lib/python3.7/dist-packages/torch/utils/data/dataloader.py:481: UserWarning: This DataLoader will create 4 worker processes in total. Our suggested max number of worker in current system is 2, which is smaller than what this DataLoader is going to create. Please be aware that excessive worker creation might get DataLoader running slow or even freeze, lower the worker number to avoid potential slowness/freeze if necessary.\n",
            "  cpuset_checked))\n"
          ]
        },
        {
          "output_type": "stream",
          "name": "stdout",
          "text": [
            "Files already downloaded and verified\n",
            "Sequential(\n",
            "  (0): Conv2d(3, 6, kernel_size=(5, 5), stride=(1, 1))\n",
            "  (1): ReLU()\n",
            "  (2): MaxPool2d(kernel_size=2, stride=2, padding=0, dilation=1, ceil_mode=False)\n",
            "  (3): Conv2d(6, 16, kernel_size=(5, 5), stride=(1, 1))\n",
            "  (4): ReLU()\n",
            "  (5): MaxPool2d(kernel_size=2, stride=2, padding=0, dilation=1, ceil_mode=False)\n",
            "  (6): Flatten(start_dim=1, end_dim=-1)\n",
            "  (7): Linear(in_features=400, out_features=120, bias=True)\n",
            "  (8): ReLU()\n",
            "  (9): Linear(in_features=120, out_features=84, bias=True)\n",
            "  (10): ReLU()\n",
            "  (11): Linear(in_features=84, out_features=10, bias=True)\n",
            ")\n",
            "\n",
            "Train\n",
            "train: 99%\n",
            "Validation\n",
            "valid: 98%\n",
            "Epoch: 0\n",
            " \ttrain loss: 1.846841812133789\n",
            " \tvalid loss: 1.5745843648910522\n",
            " \ttrain acc: 32.46%\n",
            " \tvalid acc 42.46%\n",
            "\n",
            "Train\n",
            "train: 99%\n",
            "Validation\n",
            "valid: 98%\n",
            "Epoch: 1\n",
            " \ttrain loss: 1.500867247581482\n",
            " \tvalid loss: 1.4127689599990845\n",
            " \ttrain acc: 45.32%\n",
            " \tvalid acc 48.54%\n",
            "\n",
            "Train\n",
            "train: 99%\n",
            "Validation\n",
            "valid: 98%\n",
            "Epoch: 2\n",
            " \ttrain loss: 1.3823989629745483\n",
            " \tvalid loss: 1.3429486751556396\n",
            " \ttrain acc: 49.746%\n",
            " \tvalid acc 51.239999999999995%\n",
            "\n",
            "Train\n",
            "train: 99%\n",
            "Validation\n",
            "valid: 98%\n",
            "Epoch: 3\n",
            " \ttrain loss: 1.3124996423721313\n",
            " \tvalid loss: 1.2789822816848755\n",
            " \ttrain acc: 52.442%\n",
            " \tvalid acc 53.800000000000004%\n",
            "\n",
            "Train\n",
            "train: 99%\n",
            "Validation\n",
            "valid: 98%\n",
            "Epoch: 4\n",
            " \ttrain loss: 1.254752516746521\n",
            " \tvalid loss: 1.2479231357574463\n",
            " \ttrain acc: 54.632000000000005%\n",
            " \tvalid acc 55.730000000000004%\n",
            "\n",
            "Train\n",
            "train: 99%\n",
            "Validation\n",
            "valid: 98%\n",
            "Epoch: 5\n",
            " \ttrain loss: 1.1972087621688843\n",
            " \tvalid loss: 1.1911407709121704\n",
            " \ttrain acc: 57.036%\n",
            " \tvalid acc 57.199999999999996%\n",
            "\n",
            "Train\n",
            "train: 99%\n",
            "Validation\n",
            "valid: 98%\n",
            "Epoch: 6\n",
            " \ttrain loss: 1.148061990737915\n",
            " \tvalid loss: 1.1559197902679443\n",
            " \ttrain acc: 58.821999999999996%\n",
            " \tvalid acc 58.879999999999995%\n",
            "\n",
            "Train\n",
            "train: 99%\n",
            "Validation\n",
            "valid: 98%\n",
            "Epoch: 7\n",
            " \ttrain loss: 1.1110410690307617\n",
            " \tvalid loss: 1.1463377475738525\n",
            " \ttrain acc: 60.221999999999994%\n",
            " \tvalid acc 58.730000000000004%\n",
            "\n",
            "Train\n",
            "train: 99%\n",
            "Validation\n",
            "valid: 98%\n",
            "Epoch: 8\n",
            " \ttrain loss: 1.0759334564208984\n",
            " \tvalid loss: 1.123190999031067\n",
            " \ttrain acc: 61.622%\n",
            " \tvalid acc 59.650000000000006%\n",
            "\n",
            "Train\n",
            "train: 99%\n",
            "Validation\n",
            "valid: 98%\n",
            "Epoch: 9\n",
            " \ttrain loss: 1.04458749294281\n",
            " \tvalid loss: 1.0942492485046387\n",
            " \ttrain acc: 62.926%\n",
            " \tvalid acc 60.980000000000004%\n"
          ]
        }
      ]
    },
    {
      "cell_type": "markdown",
      "metadata": {
        "id": "olHy4knVf8I-"
      },
      "source": [
        "Below are some examples simple to obtain in PyTorch, which may help your research or even debug potential problems with your model. Due to PyTorch's NumPy-like nature, investigating weights, activations, gradients, etc., is straightforward.\n",
        "\n",
        "Notice that we can convert these tensors to NumPy and plot them with matplotlib. This enables you to really look at your model during training and after."
      ]
    },
    {
      "cell_type": "code",
      "metadata": {
        "colab": {
          "base_uri": "https://localhost:8080/",
          "height": 1000
        },
        "id": "x7CaB-znf8nj",
        "outputId": "44e52811-3eb1-4f19-fd6d-5553668c99c5"
      },
      "source": [
        "from matplotlib import pyplot as plt\n",
        "print(\"\\n Weights\")\n",
        "weights = []\n",
        "for layer in model:\n",
        "  if hasattr(layer, \"weight\"):\n",
        "    weights.append(layer.weight)\n",
        "  else:\n",
        "    weights.append(None)\n",
        "\n",
        "for i, w in enumerate(weights):\n",
        "  if w!= None:\n",
        "    print(i, w.shape, w.min(), w.max(), w.mean(), w.var())\n",
        "  else:\n",
        "    print(i, w)\n",
        "plt.imshow(weights[0][0, 0].cpu().detach())\n",
        "\n",
        "print(\"\\n Activations\")\n",
        "for i, (X, y) in enumerate(train_loader):\n",
        "  break\n",
        "x = X.to(device)\n",
        "for i, layer in enumerate(model):\n",
        "  x = layer(x)\n",
        "  print(i, x.shape, x.min(), x.max(), x.mean(), x.var())\n",
        "\n",
        "# view gradients\n",
        "print(\"\\n Gradients\")\n",
        "for i, (X, y) in enumerate(train_loader):\n",
        "  X, y = X.to(device), y.to(device)\n",
        "  optimizer.zero_grad()\n",
        "  y_ = model(X)\n",
        "  loss = loss_fn(y_, y)\n",
        "  loss.backward()\n",
        "  break\n",
        "\n",
        "grads = []\n",
        "for layer in model:\n",
        "  if hasattr(layer, \"weight\"):\n",
        "    grads.append(layer.weight._grad)\n",
        "  else:\n",
        "    grads.append(None)\n",
        "\n",
        "for i, g in enumerate(grads):\n",
        "  if g!= None:\n",
        "    print(i, g.shape, g.min(), g.max(), g.mean(), g.var())\n",
        "  else:\n",
        "    print(i, g)"
      ],
      "execution_count": null,
      "outputs": [
        {
          "output_type": "stream",
          "name": "stdout",
          "text": [
            "\n",
            " Weights\n",
            "0 torch.Size([6, 3, 5, 5]) tensor(-1.1652, device='cuda:0', grad_fn=<MinBackward1>) tensor(1.4681, device='cuda:0', grad_fn=<MaxBackward1>) tensor(0.0116, device='cuda:0', grad_fn=<MeanBackward0>) tensor(0.1493, device='cuda:0', grad_fn=<VarBackward0>)\n",
            "1 None\n",
            "2 None\n",
            "3 torch.Size([16, 6, 5, 5]) tensor(-0.9129, device='cuda:0', grad_fn=<MinBackward1>) tensor(0.9452, device='cuda:0', grad_fn=<MaxBackward1>) tensor(-0.0321, device='cuda:0', grad_fn=<MeanBackward0>) tensor(0.0507, device='cuda:0', grad_fn=<VarBackward0>)\n",
            "4 None\n",
            "5 None\n",
            "6 None\n",
            "7 torch.Size([120, 400]) tensor(-0.4768, device='cuda:0', grad_fn=<MinBackward1>) tensor(0.5064, device='cuda:0', grad_fn=<MaxBackward1>) tensor(-0.0108, device='cuda:0', grad_fn=<MeanBackward0>) tensor(0.0083, device='cuda:0', grad_fn=<VarBackward0>)\n",
            "8 None\n",
            "9 torch.Size([84, 120]) tensor(-0.4186, device='cuda:0', grad_fn=<MinBackward1>) tensor(0.3568, device='cuda:0', grad_fn=<MaxBackward1>) tensor(-0.0233, device='cuda:0', grad_fn=<MeanBackward0>) tensor(0.0102, device='cuda:0', grad_fn=<VarBackward0>)\n",
            "10 None\n",
            "11 torch.Size([10, 84]) tensor(-0.6101, device='cuda:0', grad_fn=<MinBackward1>) tensor(0.3567, device='cuda:0', grad_fn=<MaxBackward1>) tensor(-0.0035, device='cuda:0', grad_fn=<MeanBackward0>) tensor(0.0248, device='cuda:0', grad_fn=<VarBackward0>)\n",
            "\n",
            " Activations\n",
            "0 torch.Size([4, 6, 28, 28]) tensor(-11.9102, device='cuda:0', grad_fn=<MinBackward1>) tensor(11.0671, device='cuda:0', grad_fn=<MaxBackward1>) tensor(-0.3169, device='cuda:0', grad_fn=<MeanBackward0>) tensor(3.2839, device='cuda:0', grad_fn=<VarBackward0>)\n",
            "1 torch.Size([4, 6, 28, 28]) tensor(0., device='cuda:0', grad_fn=<MinBackward1>) tensor(11.0671, device='cuda:0', grad_fn=<MaxBackward1>) tensor(0.4816, device='cuda:0', grad_fn=<MeanBackward0>) tensor(1.3763, device='cuda:0', grad_fn=<VarBackward0>)\n",
            "2 torch.Size([4, 6, 14, 14]) tensor(0., device='cuda:0', grad_fn=<MinBackward1>) tensor(11.0671, device='cuda:0', grad_fn=<MaxBackward1>) tensor(0.7595, device='cuda:0', grad_fn=<MeanBackward0>) tensor(1.9817, device='cuda:0', grad_fn=<VarBackward0>)\n",
            "3 torch.Size([4, 16, 10, 10]) tensor(-32.7730, device='cuda:0', grad_fn=<MinBackward1>) tensor(18.4132, device='cuda:0', grad_fn=<MaxBackward1>) tensor(-3.3281, device='cuda:0', grad_fn=<MeanBackward0>) tensor(34.8147, device='cuda:0', grad_fn=<VarBackward0>)\n",
            "4 torch.Size([4, 16, 10, 10]) tensor(0., device='cuda:0', grad_fn=<MinBackward1>) tensor(18.4132, device='cuda:0', grad_fn=<MaxBackward1>) tensor(0.6672, device='cuda:0', grad_fn=<MeanBackward0>) tensor(2.8104, device='cuda:0', grad_fn=<VarBackward0>)\n",
            "5 torch.Size([4, 16, 5, 5]) tensor(0., device='cuda:0', grad_fn=<MinBackward1>) tensor(18.4132, device='cuda:0', grad_fn=<MaxBackward1>) tensor(1.3782, device='cuda:0', grad_fn=<MeanBackward0>) tensor(5.5100, device='cuda:0', grad_fn=<VarBackward0>)\n",
            "6 torch.Size([4, 400]) tensor(0., device='cuda:0', grad_fn=<MinBackward1>) tensor(18.4132, device='cuda:0', grad_fn=<MaxBackward1>) tensor(1.3782, device='cuda:0', grad_fn=<MeanBackward0>) tensor(5.5100, device='cuda:0', grad_fn=<VarBackward0>)\n",
            "7 torch.Size([4, 120]) tensor(-34.7247, device='cuda:0', grad_fn=<MinBackward1>) tensor(13.1163, device='cuda:0', grad_fn=<MaxBackward1>) tensor(-5.9822, device='cuda:0', grad_fn=<MeanBackward0>) tensor(53.2890, device='cuda:0', grad_fn=<VarBackward0>)\n",
            "8 torch.Size([4, 120]) tensor(0., device='cuda:0', grad_fn=<MinBackward1>) tensor(13.1163, device='cuda:0', grad_fn=<MaxBackward1>) tensor(0.7691, device='cuda:0', grad_fn=<MeanBackward0>) tensor(4.2612, device='cuda:0', grad_fn=<VarBackward0>)\n",
            "9 torch.Size([4, 84]) tensor(-13.2809, device='cuda:0', grad_fn=<MinBackward1>) tensor(6.3665, device='cuda:0', grad_fn=<MaxBackward1>) tensor(-2.3987, device='cuda:0', grad_fn=<MeanBackward0>) tensor(9.4488, device='cuda:0', grad_fn=<VarBackward0>)\n",
            "10 torch.Size([4, 84]) tensor(0., device='cuda:0', grad_fn=<MinBackward1>) tensor(6.3665, device='cuda:0', grad_fn=<MaxBackward1>) tensor(0.3374, device='cuda:0', grad_fn=<MeanBackward0>) tensor(0.8534, device='cuda:0', grad_fn=<VarBackward0>)\n",
            "11 torch.Size([4, 10]) tensor(-6.8172, device='cuda:0', grad_fn=<MinBackward1>) tensor(5.4755, device='cuda:0', grad_fn=<MaxBackward1>) tensor(-0.3049, device='cuda:0', grad_fn=<MeanBackward0>) tensor(7.7757, device='cuda:0', grad_fn=<VarBackward0>)\n",
            "\n",
            " Gradients\n",
            "0 torch.Size([6, 3, 5, 5]) tensor(-0.1164, device='cuda:0') tensor(0.1527, device='cuda:0') tensor(-0.0145, device='cuda:0') tensor(0.0018, device='cuda:0')\n",
            "1 None\n",
            "2 None\n",
            "3 torch.Size([16, 6, 5, 5]) tensor(-0.1074, device='cuda:0') tensor(0.0969, device='cuda:0') tensor(-0.0003, device='cuda:0') tensor(0.0005, device='cuda:0')\n",
            "4 None\n",
            "5 None\n",
            "6 None\n",
            "7 torch.Size([120, 400]) tensor(-0.1654, device='cuda:0') tensor(0.1302, device='cuda:0') tensor(-0.0003, device='cuda:0') tensor(6.9724e-05, device='cuda:0')\n",
            "8 None\n",
            "9 torch.Size([84, 120]) tensor(-0.1377, device='cuda:0') tensor(0.1246, device='cuda:0') tensor(-0.0009, device='cuda:0') tensor(7.5232e-05, device='cuda:0')\n",
            "10 None\n",
            "11 torch.Size([10, 84]) tensor(-0.2190, device='cuda:0') tensor(0.0975, device='cuda:0') tensor(-2.3416e-09, device='cuda:0') tensor(0.0007, device='cuda:0')\n"
          ]
        },
        {
          "output_type": "display_data",
          "data": {
            "image/png": "[encoded data removed]",
            "text/plain": [
              "<Figure size 432x288 with 1 Axes>"
            ]
          },
          "metadata": {
            "needs_background": "light"
          }
        }
      ]
    },
    {
      "cell_type": "markdown",
      "source": [
        "# Intermediate Topics\n",
        "---\n"
      ],
      "metadata": {
        "id": "DuBHSU6yySq4"
      }
    },
    {
      "cell_type": "markdown",
      "metadata": {
        "id": "xUzKbXSAygFs"
      },
      "source": [
        "\n",
        "## Custom Datasets\n",
        "\n",
        "To write a custom Dataset in Pytorch, you need to create a class that extends the torch.utils.data.Dataset class and implement two methods:\n",
        "\n",
        "* \\_\\_len__ so that len(dataset) returns the dataset's size.\n",
        "* \\_\\_getitem__ to support the indexing such that dataset[i] can be used to get the ith sample\n",
        "\n",
        "Let's look at the following very simple example:\n",
        "\n",
        "```\n",
        "from torch.utils.data import Dataset\n",
        "\n",
        "class MyDataset(Dataset):\n",
        "    def __init__(self, type, transform, K, fold):\n",
        "        #load file with images/labels\n",
        "        self.X, self.Y = pickle.load(open(f'k{K}.pickle', 'rb'))[fold][type]\n",
        "        #get transforms\n",
        "        self.transform = transform\n",
        "\n",
        "    def __getitem__(self, i):\n",
        "        #iterate over each image/label during train/test cycles\n",
        "        #apply transforms\n",
        "        X = self.transform(self.X[i])\n",
        "        Y = self.Y[i]\n",
        "        return X, Y\n",
        "\n",
        "    def __len__(self):\n",
        "        return len(self.X)\n",
        "```\n",
        "\n",
        "Although this example may seem trivial, we will actually use it later for our classification experiment.\n",
        "\n",
        "It is common for Datasets to have a transform attribute that determines how to process data in the input pipeline. This allows you to rotate, resize, normalize, etc., the input data. The transform attribute is often a **torchvision.transforms.Compose** object with many sub transforms. Much like the **nn.Sequential** class enables you to have a pipeline that sequentially processes the data. You can also create your transforms.\n",
        "\n",
        "In this pipeline, it is widespread to first transform the data to a PIL image, use the PIL image functions for data augmentation, and finally convert it to a tensor and normalize it. Take a look at the following example:\n",
        "\n",
        "```\n",
        "import torchvision.transforms as transforms\n",
        "import torchvision.transforms.functional as TF\n",
        "import random\n",
        "\n",
        "train_transforms = transforms.Compose([\n",
        "    transforms.ToPILImage(),\n",
        "    Random90kRot(),\n",
        "    transforms.Resize((224, 224)), \n",
        "    transforms.RandomCrop(128),\n",
        "    transforms.RandomHorizontalFlip(),\n",
        "    transforms.ToTensor(),\n",
        "    transforms.Normalize((0.485, 0.456, 0.406), (0.229, 0.224, 0.225))\n",
        "])\n",
        "\n",
        "class Random90kRot():\n",
        "    \"\"\"Rotate by one of the given angles with equal probability.\"\"\"\n",
        "    def __init__(self, angles=[0, 90, 180, 270]):\n",
        "        self.angles = angles\n",
        "\n",
        "    def __call__(self, x):\n",
        "        angle = random.choice(self.angles)\n",
        "        return TF.rotate(x, angle, fill=(0,))\n",
        "```\n",
        "\n",
        "About the Python Image Library or Pillow: this is a library that enables you to open, manipulate, and save images with python. Although it is not used directly in our examples, some transforms from Torchvision are based on this package. You may look at this tutorial if this framework is of interest to you:\n",
        "\n",
        "https://pillow.readthedocs.io/en/stable/handbook/tutorial.html\n",
        "\n",
        "The package intersects with similar packages such as ScikitImage and Opencv, although some functions may be present in only some of them."
      ]
    },
    {
      "cell_type": "markdown",
      "source": [
        "## Data Augmentation - Albumentations\n",
        "\n",
        "```\n",
        "#or using Albumentations\n",
        "import albumentations as A\n",
        "from albumentations.pytorch import ToTensorV2\n",
        "\n",
        "train_transforms = A.Compose([\n",
        "    A.Resize(224, 224), \n",
        "    A.RandomCrop(128, 128),\n",
        "    A.HorizontalFlip(),\n",
        "    A.Normalize(mean=[0.485, 0.456, 0.406], std=[0.229, 0.224, 0.225]),\n",
        "    ToTensorV2()\n",
        "])\n",
        "\n",
        "```"
      ],
      "metadata": {
        "id": "2i-CCDP9zGQm"
      }
    },
    {
      "cell_type": "markdown",
      "source": [
        "## Pretrained Models\n",
        "\n",
        "The torchvision package provides you well-known pretained models, which you can use for different tasks, including **classification**, **segmentation** and **object detection**. Generally, pretrained models require less time to optimize to new tasks and usually perform better for small and medium-sized datasets. Often, the last layer of the models are substituted for a new one. We can optimize the last few layers of the model (fine-tuning), or the whole model. Fine-tuning is based on the idea that early layers contain general/low-level features which are useful for a multitude of tasks, while the \"later\" ones are more specific to the task which the model is trying to solve.\n",
        "\n",
        "To look deeper into the available models: https://pytorch.org/vision/stable/models.html\n",
        "\n",
        "For classification, well-known models include:\n",
        "\n",
        "```\n",
        "import torchvision.models as models\n",
        "resnet50 = models.resnet50(pretrained=True)\n",
        "alexnet = models.alexnet(pretrained=True)\n",
        "vgg16 = models.vgg16(pretrained=True)\n",
        "```\n",
        "\n",
        "Notice that these models were trained for images of size $224\\times 224$."
      ],
      "metadata": {
        "id": "R7aILaI-zUd9"
      }
    },
    {
      "cell_type": "markdown",
      "metadata": {
        "id": "V7dzHylvykpg"
      },
      "source": [
        "## Custom Layers/Models;\n",
        "\n",
        "\n",
        "Writing custom models is easy in PyTorch.\n",
        "You need to:\n",
        "\n",
        "\n",
        "1.   Extend the nn.Module class\n",
        "2.   Implement the \\_\\_init__ method\n",
        "3.   Implement the forward method\n",
        "\n",
        "You can also use nn.Module's inside your nn.Module. This is how available architectures are implemented in PyTorch.\n",
        "\n",
        "Let's look at the following example:\n",
        "\n",
        "```\n",
        "from torch import nn\n",
        "\n",
        "class Model_example(nn.Module):\n",
        "    def __init__(self, pretrained_model, n_outputs):\n",
        "        super().__init__()\n",
        "        self.n_outputs = n_outputs\n",
        "        model = getattr(models, pretrained_model)(pretrained=True)\n",
        "        #remove last layer from pre-trained model \n",
        "        model = nn.Sequential(*tuple(model.children())[:-1])\n",
        "        #get last dimension of the model\n",
        "        last_dimension = torch.flatten(model(torch.randn(1, 3, 224, 224))).shape[0]\n",
        "        self.model = nn.Sequential(\n",
        "            model,\n",
        "            nn.Flatten(),\n",
        "            nn.Dropout(0.2),\n",
        "            nn.Linear(last_dimension, 512),\n",
        "            nn.Dropout(0.2),\n",
        "            nn.ReLU(),\n",
        "            nn.Linear(512, 256),\n",
        "            nn.ReLU(),\n",
        "            nn.Linear(256, n_outputs)\n",
        "        )\n",
        "\n",
        "    def forward(self, x):\n",
        "        return self.model(x)\n",
        "```\n",
        "\n",
        "By doing this you can use functions like:\n",
        "* model(x)  # forward\n",
        "* torch.save(model.state_dict(), path)  # save model\n",
        "* model.load_state_dict(torch.load(path))  # load model\n",
        "* model.parameters()  # for the optimizer for example\n",
        "* model.train()\n",
        "* model.eval()\n"
      ]
    },
    {
      "cell_type": "markdown",
      "source": [
        "## Example 2 - Multiclass Classification model for Cervical Cancer risk assessment;\n",
        "\n",
        "Now let's look at the following example.\n",
        "It is based on this code and covers the main topics on a classification task:\n",
        "\n",
        "https://github.com/tomealbuquerque/ordinal-losses\n",
        "\n",
        "## Target\n",
        "![](https://drive.google.com/uc?export=view&id=1ppNapl6i1a11ZgzLNZyoFTlncCmeNw7i)\n",
        "\n",
        "\n",
        "![](https://drive.google.com/uc?export=view&id=1EUH2MJgtmUj7_JccGns_I7k5zw_zQ1vU)\n"
      ],
      "metadata": {
        "id": "jMkxxeDjNDsT"
      }
    },
    {
      "cell_type": "code",
      "source": [
        "#package to import google drive files to colab\n",
        "!pip install PyDrive"
      ],
      "metadata": {
        "id": "joWqohueNHgz",
        "colab": {
          "base_uri": "https://localhost:8080/"
        },
        "outputId": "a0608de7-8681-41b7-b61f-701b316a07e6"
      },
      "execution_count": null,
      "outputs": [
        {
          "output_type": "stream",
          "name": "stdout",
          "text": [
            "Requirement already satisfied: PyDrive in /usr/local/lib/python3.7/dist-packages (1.3.1)\n",
            "Requirement already satisfied: oauth2client>=4.0.0 in /usr/local/lib/python3.7/dist-packages (from PyDrive) (4.1.3)\n",
            "Requirement already satisfied: PyYAML>=3.0 in /usr/local/lib/python3.7/dist-packages (from PyDrive) (3.13)\n",
            "Requirement already satisfied: google-api-python-client>=1.2 in /usr/local/lib/python3.7/dist-packages (from PyDrive) (1.12.10)\n",
            "Requirement already satisfied: google-auth-httplib2>=0.0.3 in /usr/local/lib/python3.7/dist-packages (from google-api-python-client>=1.2->PyDrive) (0.0.4)\n",
            "Requirement already satisfied: httplib2<1dev,>=0.15.0 in /usr/local/lib/python3.7/dist-packages (from google-api-python-client>=1.2->PyDrive) (0.17.4)\n",
            "Requirement already satisfied: uritemplate<4dev,>=3.0.0 in /usr/local/lib/python3.7/dist-packages (from google-api-python-client>=1.2->PyDrive) (3.0.1)\n",
            "Requirement already satisfied: six<2dev,>=1.13.0 in /usr/local/lib/python3.7/dist-packages (from google-api-python-client>=1.2->PyDrive) (1.15.0)\n",
            "Requirement already satisfied: google-api-core<3dev,>=1.21.0 in /usr/local/lib/python3.7/dist-packages (from google-api-python-client>=1.2->PyDrive) (1.26.3)\n",
            "Requirement already satisfied: google-auth<3dev,>=1.16.0 in /usr/local/lib/python3.7/dist-packages (from google-api-python-client>=1.2->PyDrive) (1.35.0)\n",
            "Requirement already satisfied: protobuf>=3.12.0 in /usr/local/lib/python3.7/dist-packages (from google-api-core<3dev,>=1.21.0->google-api-python-client>=1.2->PyDrive) (3.17.3)\n",
            "Requirement already satisfied: requests<3.0.0dev,>=2.18.0 in /usr/local/lib/python3.7/dist-packages (from google-api-core<3dev,>=1.21.0->google-api-python-client>=1.2->PyDrive) (2.23.0)\n",
            "Requirement already satisfied: pytz in /usr/local/lib/python3.7/dist-packages (from google-api-core<3dev,>=1.21.0->google-api-python-client>=1.2->PyDrive) (2018.9)\n",
            "Requirement already satisfied: googleapis-common-protos<2.0dev,>=1.6.0 in /usr/local/lib/python3.7/dist-packages (from google-api-core<3dev,>=1.21.0->google-api-python-client>=1.2->PyDrive) (1.54.0)\n",
            "Requirement already satisfied: packaging>=14.3 in /usr/local/lib/python3.7/dist-packages (from google-api-core<3dev,>=1.21.0->google-api-python-client>=1.2->PyDrive) (21.3)\n",
            "Requirement already satisfied: setuptools>=40.3.0 in /usr/local/lib/python3.7/dist-packages (from google-api-core<3dev,>=1.21.0->google-api-python-client>=1.2->PyDrive) (57.4.0)\n",
            "Requirement already satisfied: cachetools<5.0,>=2.0.0 in /usr/local/lib/python3.7/dist-packages (from google-auth<3dev,>=1.16.0->google-api-python-client>=1.2->PyDrive) (4.2.4)\n",
            "Requirement already satisfied: pyasn1-modules>=0.2.1 in /usr/local/lib/python3.7/dist-packages (from google-auth<3dev,>=1.16.0->google-api-python-client>=1.2->PyDrive) (0.2.8)\n",
            "Requirement already satisfied: rsa<5,>=3.1.4 in /usr/local/lib/python3.7/dist-packages (from google-auth<3dev,>=1.16.0->google-api-python-client>=1.2->PyDrive) (4.8)\n",
            "Requirement already satisfied: pyasn1>=0.1.7 in /usr/local/lib/python3.7/dist-packages (from oauth2client>=4.0.0->PyDrive) (0.4.8)\n",
            "Requirement already satisfied: pyparsing!=3.0.5,>=2.0.2 in /usr/local/lib/python3.7/dist-packages (from packaging>=14.3->google-api-core<3dev,>=1.21.0->google-api-python-client>=1.2->PyDrive) (3.0.7)\n",
            "Requirement already satisfied: urllib3!=1.25.0,!=1.25.1,<1.26,>=1.21.1 in /usr/local/lib/python3.7/dist-packages (from requests<3.0.0dev,>=2.18.0->google-api-core<3dev,>=1.21.0->google-api-python-client>=1.2->PyDrive) (1.24.3)\n",
            "Requirement already satisfied: idna<3,>=2.5 in /usr/local/lib/python3.7/dist-packages (from requests<3.0.0dev,>=2.18.0->google-api-core<3dev,>=1.21.0->google-api-python-client>=1.2->PyDrive) (2.10)\n",
            "Requirement already satisfied: certifi>=2017.4.17 in /usr/local/lib/python3.7/dist-packages (from requests<3.0.0dev,>=2.18.0->google-api-core<3dev,>=1.21.0->google-api-python-client>=1.2->PyDrive) (2021.10.8)\n",
            "Requirement already satisfied: chardet<4,>=3.0.2 in /usr/local/lib/python3.7/dist-packages (from requests<3.0.0dev,>=2.18.0->google-api-core<3dev,>=1.21.0->google-api-python-client>=1.2->PyDrive) (3.0.4)\n"
          ]
        }
      ]
    },
    {
      "cell_type": "code",
      "source": [
        "from pydrive.auth import GoogleAuth\n",
        "from pydrive.drive import GoogleDrive\n",
        "from google.colab import auth\n",
        "from oauth2client.client import GoogleCredentials\n",
        "\n",
        "# 1. Authenticate and create the PyDrive client.\n",
        "auth.authenticate_user()\n",
        "gauth = GoogleAuth()\n",
        "gauth.credentials = GoogleCredentials.get_application_default()\n",
        "drive = GoogleDrive(gauth)\n",
        "\n",
        "#2. Get the file\n",
        "downloaded = drive.CreateFile({'id':\"1G90PIYhDFOpYdAtKG70_0OWmvwuVSHD2\"})   # replace the id with id of file you want to access\n",
        "downloaded.GetContentFile('k7.pickle')"
      ],
      "metadata": {
        "id": "FSZxCLLyNTQU",
        "colab": {
          "base_uri": "https://localhost:8080/"
        },
        "outputId": "4839cecc-d024-4ed4-a5e3-966f6c28056a"
      },
      "execution_count": null,
      "outputs": [
        {
          "output_type": "stream",
          "name": "stderr",
          "text": [
            "WARNING:googleapiclient.discovery_cache:file_cache is unavailable when using oauth2client >= 4.0.0 or google-auth\n",
            "Traceback (most recent call last):\n",
            "  File \"/usr/local/lib/python3.7/dist-packages/googleapiclient/discovery_cache/file_cache.py\", line 33, in <module>\n",
            "    from oauth2client.contrib.locked_file import LockedFile\n",
            "ModuleNotFoundError: No module named 'oauth2client.contrib.locked_file'\n",
            "\n",
            "During handling of the above exception, another exception occurred:\n",
            "\n",
            "Traceback (most recent call last):\n",
            "  File \"/usr/local/lib/python3.7/dist-packages/googleapiclient/discovery_cache/file_cache.py\", line 37, in <module>\n",
            "    from oauth2client.locked_file import LockedFile\n",
            "ModuleNotFoundError: No module named 'oauth2client.locked_file'\n",
            "\n",
            "During handling of the above exception, another exception occurred:\n",
            "\n",
            "Traceback (most recent call last):\n",
            "  File \"/usr/local/lib/python3.7/dist-packages/googleapiclient/discovery_cache/__init__.py\", line 44, in autodetect\n",
            "    from . import file_cache\n",
            "  File \"/usr/local/lib/python3.7/dist-packages/googleapiclient/discovery_cache/file_cache.py\", line 41, in <module>\n",
            "    \"file_cache is unavailable when using oauth2client >= 4.0.0 or google-auth\"\n",
            "ImportError: file_cache is unavailable when using oauth2client >= 4.0.0 or google-auth\n"
          ]
        }
      ]
    },
    {
      "cell_type": "code",
      "metadata": {
        "id": "GhkwJV85dRmQ",
        "colab": {
          "base_uri": "https://localhost:8080/",
          "height": 68,
          "referenced_widgets": [
            "ee1c86c531eb4dd89f7afd4cb7b7beec",
            "c50a1fcf1fd94091876df8a0383d2cf4",
            "aa6360310a314786957014de31e72cfb",
            "b2317f5a7be341daa29ceb8900c5a956",
            "6db541361bff482995e619d0e32e49b8",
            "eca6bcdab5ba4307be1245b3134179da",
            "b219d60e10924c17ad1572b12b3a867e",
            "ef7361a3564843059647697c1d779d40",
            "8138263adf7344279c40a19c8bd3ed38",
            "31c29ab3b6d04ade977188acce17bf9f",
            "317f6cc092434b9485982c87ab203642"
          ]
        },
        "outputId": "d6341149-3e61-4fde-c6dd-7d7f38ed1d7b"
      },
      "source": [
        "#Main pipeline for multiclass classification\n",
        "#import libraries\n",
        "import numpy as np\n",
        "from time import time\n",
        "import torch\n",
        "from torch import nn, optim\n",
        "import torch.nn.functional as F\n",
        "from torch.utils.data import Dataset, DataLoader, Subset\n",
        "from tqdm import tqdm\n",
        "from sklearn.model_selection import KFold\n",
        "from torchvision import models, transforms\n",
        "import pickle\n",
        "\n",
        "\n",
        "device = torch.device('cuda' if torch.cuda.is_available() else 'cpu')\n",
        "\n",
        "#hyperparameters to tune\n",
        "#number of classes \n",
        "K = 7\n",
        "#fold (in this case we have 3 k-folds) \n",
        "fold = 0\n",
        "#number of images per mini-batch\n",
        "batchsize=64\n",
        "#epochs to finish the train \n",
        "epochs=10\n",
        "#learning rate\n",
        "lr=1e-4\n",
        "#pre-trained architecture\n",
        "architecture='mobilenet_v2'\n",
        "\n",
        "#Prepare dataset loader\n",
        "class MyDataset(Dataset):\n",
        "    def __init__(self, type, transform, K, fold):\n",
        "        self.X, self.Y = pickle.load(open(f'k{K}.pickle', 'rb'))[fold][type]\n",
        "        self.transform = transform\n",
        "\n",
        "    def __getitem__(self, i):\n",
        "        X = self.transform(self.X[i])\n",
        "        Y = self.Y[i]\n",
        "        return X, Y\n",
        "\n",
        "    def __len__(self):\n",
        "        return len(self.X)\n",
        "\n",
        "#train transforms\n",
        "train_transforms = transforms.Compose([\n",
        "    transforms.ToPILImage(),\n",
        "    transforms.RandomAffine(180, (0, 0.1), (0.9, 1.1)),\n",
        "    transforms.RandomHorizontalFlip(),\n",
        "    transforms.RandomVerticalFlip(),\n",
        "    transforms.ColorJitter(saturation=(0.5, 2.0)),\n",
        "    transforms.ToTensor(),\n",
        "    transforms.Normalize((0.485, 0.456, 0.406), (0.229, 0.224, 0.225))\n",
        "])\n",
        "\n",
        "#val transforms\n",
        "val_transforms = transforms.Compose([\n",
        "    transforms.ToTensor(), \n",
        "    transforms.Normalize((0.485, 0.456, 0.406), (0.229, 0.224, 0.225))\n",
        "])\n",
        "\n",
        "#dataloaders\n",
        "tr_ds = MyDataset('train', train_transforms, K, fold)\n",
        "tr = DataLoader(tr_ds, batchsize, True)#random selection of images - True\n",
        "ts_ds = MyDataset('test', val_transforms, K, fold)\n",
        "ts = DataLoader(ts_ds, batchsize)\n",
        "\n",
        "#loss\n",
        "ce = nn.CrossEntropyLoss()\n",
        "\n",
        "# Model\n",
        "class Base(nn.Module):\n",
        "    def __init__(self, pretrained_model, n_outputs):\n",
        "        super().__init__()\n",
        "        self.n_outputs = n_outputs\n",
        "        model = getattr(models, pretrained_model)(pretrained=True) #using transfer learning from a pretrained model - True\n",
        "        model = nn.Sequential(*tuple(model.children())[:-1])\n",
        "        last_dimension = torch.flatten(model(torch.randn(1, 3, 224, 224))).shape[0]\n",
        "        self.model = nn.Sequential(\n",
        "            model,\n",
        "            nn.Flatten(),\n",
        "            nn.Dropout(0.2),\n",
        "            nn.Linear(last_dimension, 512),\n",
        "            nn.Dropout(0.2),\n",
        "            nn.ReLU(),\n",
        "            nn.Linear(512, 256),\n",
        "            nn.ReLU(),\n",
        "            nn.Linear(256, n_outputs)\n",
        "        )\n",
        "\n",
        "    def forward(self, x):\n",
        "        return self.model(x)\n",
        "\n",
        "    def loss(self, Yhat, Y):\n",
        "        return ce(Yhat, Y)\n",
        "\n",
        "    def to_proba(self, Yhat):\n",
        "        return F.softmax(Yhat, 1)\n",
        "\n",
        "    def to_classes(self, Phat):\n",
        "        return Phat.argmax(1)\n",
        "\n",
        "#test cycle\n",
        "def test(val):\n",
        "    model.eval()\n",
        "    val_avg_acc = 0\n",
        "    with torch.no_grad():\n",
        "      for X, Y in tqdm(val):\n",
        "          X = X.to(device)\n",
        "          Y = Y.to(device, torch.int64)\n",
        "          Yhat = model(X)\n",
        "          Khat = model.to_classes(model.to_proba(Yhat))\n",
        "          val_avg_acc += (Y == Khat).float().mean() / len(val)\n",
        "    return val_avg_acc\n",
        "\n",
        "#train cycle\n",
        "def train(tr, val, epochs=epochs, verbose=True):\n",
        "    for epoch in range(epochs):\n",
        "        if verbose:\n",
        "            print(f'* Epoch {epoch+1}/{epochs}')\n",
        "        tic = time()\n",
        "        model.train()\n",
        "        avg_acc = 0\n",
        "        avg_loss = 0\n",
        "        for X, Y in tqdm(tr):\n",
        "            X = X.to(device)\n",
        "            Y = Y.to(device, torch.int64)\n",
        "            opt.zero_grad()\n",
        "            Yhat = model(X)\n",
        "            loss = model.loss(Yhat, Y)\n",
        "            loss.backward()\n",
        "            opt.step()\n",
        "            Khat = model.to_classes(model.to_proba(Yhat))\n",
        "            avg_acc += (Y == Khat).float().mean() / len(tr)\n",
        "            avg_loss += loss / len(tr)\n",
        "        dt = time() - tic\n",
        "        out = ' - %ds - Loss: %f, Acc: %f' % (dt, avg_loss, avg_acc)\n",
        "        if val:\n",
        "            model.eval()\n",
        "            out += ', Test Acc: %f' % test(val)\n",
        "        if verbose:\n",
        "            print(out)\n",
        "        scheduler.step(avg_loss)\n",
        "\n",
        "#get output probabilities from the model\n",
        "def predict_proba(data):\n",
        "    model.eval()\n",
        "    Phat = []\n",
        "    with torch.no_grad():\n",
        "        for X, _ in data:\n",
        "            phat = model.to_classes(model.to_proba(model(X.to(device))))\n",
        "            Phat += list(phat.cpu().numpy())\n",
        "    return Phat\n",
        "\n",
        "#Give to the model the architecture and number of classes (K)\n",
        "model = Base(architecture, K)\n",
        "#put the model on 'GPU' or 'CPU'\n",
        "model = model.to(device)\n",
        "#Define optimizer and scheduler \n",
        "opt = optim.Adam(model.parameters(), lr)\n",
        "scheduler = optim.lr_scheduler.ReduceLROnPlateau(opt, verbose=True)\n"
      ],
      "execution_count": null,
      "outputs": [
        {
          "output_type": "stream",
          "name": "stderr",
          "text": [
            "Downloading: \"https://download.pytorch.org/models/mobilenet_v2-b0353104.pth\" to /root/.cache/torch/hub/checkpoints/mobilenet_v2-b0353104.pth\n"
          ]
        },
        {
          "output_type": "display_data",
          "data": {
            "application/vnd.jupyter.widget-view+json": {
              "model_id": "ee1c86c531eb4dd89f7afd4cb7b7beec",
              "version_minor": 0,
              "version_major": 2
            },
            "text/plain": [
              "  0%|          | 0.00/13.6M [00:00<?, ?B/s]"
            ]
          },
          "metadata": {}
        }
      ]
    },
    {
      "cell_type": "markdown",
      "source": [
        "###Train Model"
      ],
      "metadata": {
        "id": "HGbQtyZNN_bn"
      }
    },
    {
      "cell_type": "code",
      "source": [
        "#Start the training process\n",
        "train(tr, ts)"
      ],
      "metadata": {
        "id": "o4bjNCpFN-ao",
        "colab": {
          "base_uri": "https://localhost:8080/"
        },
        "outputId": "5bb2c19b-625c-4fbb-faea-d05cf27e1eaa"
      },
      "execution_count": null,
      "outputs": [
        {
          "output_type": "stream",
          "name": "stdout",
          "text": [
            "* Epoch 1/10\n"
          ]
        },
        {
          "output_type": "stream",
          "name": "stderr",
          "text": [
            "100%|██████████| 10/10 [00:08<00:00,  1.20it/s]\n",
            "100%|██████████| 5/5 [00:00<00:00,  5.73it/s]\n"
          ]
        },
        {
          "output_type": "stream",
          "name": "stdout",
          "text": [
            " - 8s - Loss: 0.514571, Acc: 0.806071, Test Acc: 0.672125\n",
            "* Epoch 2/10\n"
          ]
        },
        {
          "output_type": "stream",
          "name": "stderr",
          "text": [
            "100%|██████████| 10/10 [00:08<00:00,  1.15it/s]\n",
            "100%|██████████| 5/5 [00:00<00:00,  5.73it/s]\n"
          ]
        },
        {
          "output_type": "stream",
          "name": "stdout",
          "text": [
            " - 8s - Loss: 0.527410, Acc: 0.787857, Test Acc: 0.604875\n",
            "* Epoch 3/10\n"
          ]
        },
        {
          "output_type": "stream",
          "name": "stderr",
          "text": [
            "100%|██████████| 10/10 [00:08<00:00,  1.14it/s]\n",
            "100%|██████████| 5/5 [00:00<00:00,  7.20it/s]\n"
          ]
        },
        {
          "output_type": "stream",
          "name": "stdout",
          "text": [
            " - 8s - Loss: 0.508951, Acc: 0.791205, Test Acc: 0.667375\n",
            "* Epoch 4/10\n"
          ]
        },
        {
          "output_type": "stream",
          "name": "stderr",
          "text": [
            "100%|██████████| 10/10 [00:09<00:00,  1.08it/s]\n",
            "100%|██████████| 5/5 [00:00<00:00,  5.90it/s]\n"
          ]
        },
        {
          "output_type": "stream",
          "name": "stdout",
          "text": [
            " - 9s - Loss: 0.488510, Acc: 0.806830, Test Acc: 0.682875\n",
            "* Epoch 5/10\n"
          ]
        },
        {
          "output_type": "stream",
          "name": "stderr",
          "text": [
            "100%|██████████| 10/10 [00:07<00:00,  1.29it/s]\n",
            "100%|██████████| 5/5 [00:00<00:00,  7.29it/s]\n"
          ]
        },
        {
          "output_type": "stream",
          "name": "stdout",
          "text": [
            " - 7s - Loss: 0.440283, Acc: 0.825312, Test Acc: 0.667250\n",
            "* Epoch 6/10\n"
          ]
        },
        {
          "output_type": "stream",
          "name": "stderr",
          "text": [
            "100%|██████████| 10/10 [00:07<00:00,  1.41it/s]\n",
            "100%|██████████| 5/5 [00:00<00:00,  7.21it/s]\n"
          ]
        },
        {
          "output_type": "stream",
          "name": "stdout",
          "text": [
            " - 7s - Loss: 0.432930, Acc: 0.808661, Test Acc: 0.684125\n",
            "* Epoch 7/10\n"
          ]
        },
        {
          "output_type": "stream",
          "name": "stderr",
          "text": [
            "100%|██████████| 10/10 [00:07<00:00,  1.40it/s]\n",
            "100%|██████████| 5/5 [00:00<00:00,  7.26it/s]\n"
          ]
        },
        {
          "output_type": "stream",
          "name": "stdout",
          "text": [
            " - 7s - Loss: 0.435513, Acc: 0.837545, Test Acc: 0.658875\n",
            "* Epoch 8/10\n"
          ]
        },
        {
          "output_type": "stream",
          "name": "stderr",
          "text": [
            "100%|██████████| 10/10 [00:07<00:00,  1.40it/s]\n",
            "100%|██████████| 5/5 [00:00<00:00,  7.27it/s]\n"
          ]
        },
        {
          "output_type": "stream",
          "name": "stdout",
          "text": [
            " - 7s - Loss: 0.377504, Acc: 0.870357, Test Acc: 0.681875\n",
            "* Epoch 9/10\n"
          ]
        },
        {
          "output_type": "stream",
          "name": "stderr",
          "text": [
            "100%|██████████| 10/10 [00:07<00:00,  1.40it/s]\n",
            "100%|██████████| 5/5 [00:00<00:00,  7.23it/s]\n"
          ]
        },
        {
          "output_type": "stream",
          "name": "stdout",
          "text": [
            " - 7s - Loss: 0.307256, Acc: 0.886473, Test Acc: 0.666875\n",
            "* Epoch 10/10\n"
          ]
        },
        {
          "output_type": "stream",
          "name": "stderr",
          "text": [
            "100%|██████████| 10/10 [00:07<00:00,  1.40it/s]\n",
            "100%|██████████| 5/5 [00:00<00:00,  7.25it/s]\n"
          ]
        },
        {
          "output_type": "stream",
          "name": "stdout",
          "text": [
            " - 7s - Loss: 0.292446, Acc: 0.877634, Test Acc: 0.678000\n"
          ]
        }
      ]
    },
    {
      "cell_type": "markdown",
      "source": [
        "###Evaluate Model Performance"
      ],
      "metadata": {
        "id": "V2ZHcfshNqi9"
      }
    },
    {
      "cell_type": "code",
      "source": [
        "#evaluate model performance\n",
        "from sklearn.metrics import classification_report, confusion_matrix\n",
        "import matplotlib.pyplot as plt\n",
        "import seaborn as sns\n",
        "\n",
        "y_pred=predict_proba(ts)\n",
        "_,y_true = pickle.load(open(f'k{K}.pickle', 'rb'))[fold]['test']\n",
        "print('Classification Report:\\n', classification_report(y_true, y_pred))\n",
        "\n",
        "print('Confusion Matrix:')\n",
        "cm = sns.heatmap(confusion_matrix(y_true, y_pred), annot=True, cmap='Blues')\n",
        "plt.show()"
      ],
      "metadata": {
        "id": "Cse-6Wu9NXNN",
        "colab": {
          "base_uri": "https://localhost:8080/",
          "height": 575
        },
        "outputId": "1b5e412a-6a48-4da1-cbc3-0a49e53fa931"
      },
      "execution_count": null,
      "outputs": [
        {
          "output_type": "stream",
          "name": "stdout",
          "text": [
            "Classification Report:\n",
            "               precision    recall  f1-score   support\n",
            "\n",
            "           0       0.83      1.00      0.91        25\n",
            "           1       1.00      0.74      0.85        23\n",
            "           2       0.70      0.85      0.77        33\n",
            "           3       0.68      0.84      0.75        61\n",
            "           4       0.44      0.40      0.42        48\n",
            "           5       0.68      0.55      0.61        66\n",
            "           6       0.67      0.64      0.65        50\n",
            "\n",
            "    accuracy                           0.68       306\n",
            "   macro avg       0.71      0.71      0.71       306\n",
            "weighted avg       0.68      0.68      0.67       306\n",
            "\n",
            "Confusion Matrix:\n"
          ]
        },
        {
          "output_type": "display_data",
          "data": {
            "image/png": "[encoded data removed]",
            "text/plain": [
              "<Figure size 432x288 with 2 Axes>"
            ]
          },
          "metadata": {
            "needs_background": "light"
          }
        }
      ]
    },
    {
      "cell_type": "markdown",
      "source": [
        "# Closing remarks\n"
      ],
      "metadata": {
        "id": "YXP2KaVXzye6"
      }
    },
    {
      "cell_type": "markdown",
      "metadata": {
        "id": "Q_NPXLvJeSq8"
      },
      "source": [
        "## Some tips!\n",
        "\n",
        "* save your experiments - training takes time, and sometimes you want to check something later or reuse your model. As such, you should save your model, hyperparameters, data, training curves, etc., and keep it.\n",
        "\n",
        "**Example:** you trained a few models, evaluated their accuracy, and you got rid of them. Later, you were asked to assess the rocAUC too. If you discarded your model, you would have to retrain, which can take a few days.\n",
        "\n",
        "* the devil is in the details - many things in deep learning depend on little details. Errors are often silent. Due to this, you should adopt a defensive posture and evaluate and debug intermediate results as much as possible. In the end, you will save time.\n",
        "\n",
        "* do not reinvent the wheel unless you are having fun - many of the things you need are either implemented on PyTorch or other repositories. If you are implementing something by yourself, make sure you are wasting time because you want to."
      ]
    },
    {
      "cell_type": "markdown",
      "source": [
        "## Next Tutorial\n",
        "\n",
        "04/03 - 21:00\n",
        "\n",
        "**Topics:** GANs and VAEs and Metric Learning\n",
        "\n",
        "Pedro Neto\n",
        "\n",
        "Eduardo Castro\n",
        "\n",
        "<center><h1>Thank you!!</h1></center>\n"
      ],
      "metadata": {
        "id": "r2OEodiMz5De"
      }
    }
  ]
}